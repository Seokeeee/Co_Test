{
 "cells": [
  {
   "cell_type": "markdown",
   "id": "electrical-gauge",
   "metadata": {},
   "source": [
    "6001 : [기초-출력] 출력하기01(설명)(py)"
   ]
  },
  {
   "cell_type": "markdown",
   "id": "overall-wichita",
   "metadata": {},
   "source": [
    "python 언어에서 가장 기본적인 명령이 출력문이다.\n",
    "print( )를 이용해 다음 단어를 출력하시오.\n",
    "\n",
    "Hello\n",
    "\n",
    "예시\n",
    "print(\"Hello\") "
   ]
  },
  {
   "cell_type": "code",
   "execution_count": 1,
   "id": "returning-stuff",
   "metadata": {},
   "outputs": [
    {
     "name": "stdout",
     "output_type": "stream",
     "text": [
      "Hello\n"
     ]
    }
   ],
   "source": [
    "print(\"Hello\")"
   ]
  },
  {
   "cell_type": "markdown",
   "id": "solid-broadcast",
   "metadata": {},
   "source": [
    "6002 : [기초-출력] 출력하기02(설명)(py)"
   ]
  },
  {
   "cell_type": "markdown",
   "id": "reserved-norway",
   "metadata": {},
   "source": [
    "이번에는 공백( )을 포함한 문장을 출력한다.\n",
    "다음 문장을 출력해보자.\n",
    "\n",
    "Hello World\n",
    "(대소문자에 주의한다.)"
   ]
  },
  {
   "cell_type": "code",
   "execution_count": 2,
   "id": "lightweight-ontario",
   "metadata": {},
   "outputs": [
    {
     "name": "stdout",
     "output_type": "stream",
     "text": [
      "Hello World\n"
     ]
    }
   ],
   "source": [
    "print(\"Hello World\")"
   ]
  },
  {
   "cell_type": "markdown",
   "id": "laden-horizontal",
   "metadata": {},
   "source": [
    "6003 : [기초-출력] 출력하기03(설명)(py)"
   ]
  },
  {
   "cell_type": "markdown",
   "id": "experienced-questionnaire",
   "metadata": {},
   "source": [
    "이번에는 줄을 바꿔 출력하는 출력문을 연습해보자.\n",
    "다음과 같이 줄을 바꿔 출력해야 한다.\n",
    "\n",
    "Hello\n",
    "World\n",
    "(두 줄에 걸쳐 줄을 바꿔 출력)\n",
    "\n",
    "예시 \n",
    "print(\"Hello\") \n",
    "print(\"World\")"
   ]
  },
  {
   "cell_type": "code",
   "execution_count": 3,
   "id": "hollow-ethnic",
   "metadata": {},
   "outputs": [
    {
     "name": "stdout",
     "output_type": "stream",
     "text": [
      "Hello\n",
      "World\n"
     ]
    }
   ],
   "source": [
    "print(\"Hello\") \n",
    "print(\"World\")"
   ]
  },
  {
   "cell_type": "markdown",
   "id": "greek-saying",
   "metadata": {},
   "source": [
    "6004 : [기초-출력] 출력하기04(설명)(py)"
   ]
  },
  {
   "cell_type": "markdown",
   "id": "ongoing-sperm",
   "metadata": {},
   "source": [
    "이번에는 작은 따옴표(')(single quotation mark)가 들어있는\n",
    "출력문 연습을 해보자.\n",
    "\n",
    "다음 문장을 출력하시오.\n",
    "\n",
    "'Hello'\n",
    "\n",
    "예시\n",
    "print(\" ' \");"
   ]
  },
  {
   "cell_type": "code",
   "execution_count": 6,
   "id": "handy-junction",
   "metadata": {},
   "outputs": [
    {
     "name": "stdout",
     "output_type": "stream",
     "text": [
      "'Hello'\n"
     ]
    }
   ],
   "source": [
    "print(\"'Hello'\")"
   ]
  },
  {
   "cell_type": "markdown",
   "id": "exceptional-grill",
   "metadata": {},
   "source": [
    "6005 : [기초-출력] 출력하기05(설명)(py)"
   ]
  },
  {
   "cell_type": "markdown",
   "id": "economic-shore",
   "metadata": {},
   "source": [
    "이번에는 큰따옴표(\")(double quotation mark)가 포함된 출력문을 연습해보자.\n",
    "\n",
    "다음 문장을 출력하시오.\n",
    "\n",
    "\"Hello World\"\n",
    "(단, 큰따옴표도 함께 출력한다.)\n",
    "\n",
    "예시\n",
    "print(' \" ');\n"
   ]
  },
  {
   "cell_type": "code",
   "execution_count": 7,
   "id": "protecting-migration",
   "metadata": {},
   "outputs": [
    {
     "name": "stdout",
     "output_type": "stream",
     "text": [
      "\"Hello World\"\n"
     ]
    }
   ],
   "source": [
    "print('\"Hello World\"')"
   ]
  },
  {
   "cell_type": "markdown",
   "id": "internal-egypt",
   "metadata": {},
   "source": [
    "6006 : [기초-출력] 출력하기06(py)"
   ]
  },
  {
   "cell_type": "markdown",
   "id": "immune-point",
   "metadata": {},
   "source": [
    "이번에는 특수문자 출력에 도전하자!!\n",
    "\n",
    "다음 문장을 출력하시오.\n",
    "\n",
    "\"!@#$%^&*()'\n",
    "(단, 큰따옴표와 작은따옴표도 함께 출력한다.)"
   ]
  },
  {
   "cell_type": "code",
   "execution_count": 16,
   "id": "insured-physics",
   "metadata": {},
   "outputs": [
    {
     "name": "stdout",
     "output_type": "stream",
     "text": [
      "\"!@#$%^&*()'\n"
     ]
    }
   ],
   "source": [
    "print(\"\\\"!@#$%^&*()'\")"
   ]
  },
  {
   "cell_type": "markdown",
   "id": "bridal-indianapolis",
   "metadata": {},
   "source": [
    "6007 : [기초-출력] 출력하기07(py)"
   ]
  },
  {
   "cell_type": "markdown",
   "id": "competent-occupation",
   "metadata": {},
   "source": [
    "윈도우 운영체제의 파일 경로를 출력하는 연습을 해보자.\n",
    " \n",
    "파일 경로에는 특수문자들이 포함된다.\n",
    "\n",
    "다음 경로를 출력하시오.\n",
    "\n",
    "\"C:\\Download\\'hello'.py\"\n",
    "(단, 따옴표도 함께 출력한다.)"
   ]
  },
  {
   "cell_type": "code",
   "execution_count": 44,
   "id": "bright-hartford",
   "metadata": {},
   "outputs": [
    {
     "name": "stdout",
     "output_type": "stream",
     "text": [
      "\"C:\\Download\\'hello'.py\"\n"
     ]
    }
   ],
   "source": [
    "print(\"\\\"C:\\\\Download\\\\'hello'.py\\\"\")"
   ]
  },
  {
   "cell_type": "markdown",
   "id": "opening-alcohol",
   "metadata": {},
   "source": [
    "6008 : [기초-출력] 출력하기08(py)"
   ]
  },
  {
   "cell_type": "markdown",
   "id": "central-trust",
   "metadata": {},
   "source": [
    "출력문 연습의 마지막 문제이다.\n",
    "(생각과 시도를 많이 해야하는 문제들은 한 두 문제씩 넘겼다가 나중에 풀어보면 된다.)\n",
    "\n",
    "이번에는 다음과 같은 python프로그램의 소스코드를 출력해보자.\n",
    "\n",
    "print(\"Hello\\nWorld\")\n",
    "\n",
    "위 코드를 정확히 그대로 출력하시오.(공백문자 주의)"
   ]
  },
  {
   "cell_type": "code",
   "execution_count": 50,
   "id": "dense-essay",
   "metadata": {},
   "outputs": [
    {
     "name": "stdout",
     "output_type": "stream",
     "text": [
      "print(\"Hello\\nWorld\")\n"
     ]
    }
   ],
   "source": [
    "print('print(\"Hello\\\\nWorld\")')"
   ]
  },
  {
   "cell_type": "markdown",
   "id": "liquid-relevance",
   "metadata": {},
   "source": [
    "6009 : [기초-입출력] 문자 1개 입력받아 그대로 출력하기(설명)(py)"
   ]
  },
  {
   "cell_type": "markdown",
   "id": "equal-bernard",
   "metadata": {},
   "source": [
    "문자(character)는\n",
    "0~9, a~z, A~Z, !, @, #, {, [, <, ... 과 같이 \n",
    "길이가 1인 기호라고 할 수 있다.\n",
    "\n",
    "변수에 문자 1개를 저장한 후\n",
    "변수에 저장되어 있는 문자를 그대로 출력해보자.\n",
    "\n",
    "예시\n",
    "c = input()\n",
    "print(c)\n",
    "\n",
    "와 같은 형태로 가능하다."
   ]
  },
  {
   "cell_type": "code",
   "execution_count": 53,
   "id": "cubic-asian",
   "metadata": {},
   "outputs": [
    {
     "name": "stdout",
     "output_type": "stream",
     "text": [
      "a\n"
     ]
    }
   ],
   "source": [
    "inputs = input()\n",
    "print(inputs)"
   ]
  },
  {
   "cell_type": "markdown",
   "id": "tested-designer",
   "metadata": {},
   "source": [
    "6010 : [기초-입출력] 정수 1개 입력받아 int로 변환하여 출력하기(설명)(py)"
   ]
  },
  {
   "cell_type": "markdown",
   "id": "arctic-impact",
   "metadata": {},
   "source": [
    "정수(integer)는\n",
    "양의 정수(1, 2, 3, 4, 5, ...), 음의 정수(-1, -2, -3, -4, -5, ...), 0 과 같이\n",
    "소숫점 아래에 수가 없는 수라고 할 수 있다.\n",
    "\n",
    "변수에 정수값을 저장한 후 정수로 변환하여 출력해보자.\n",
    "\n",
    "예시\n",
    "n = input()\n",
    "n = int(n)\n",
    "print(n)\n",
    "와 같은 형태로 가능하다."
   ]
  },
  {
   "cell_type": "code",
   "execution_count": 54,
   "id": "sufficient-episode",
   "metadata": {},
   "outputs": [
    {
     "name": "stdout",
     "output_type": "stream",
     "text": [
      "15\n",
      "15\n"
     ]
    }
   ],
   "source": [
    "inputs = input()\n",
    "print(int(inputs))"
   ]
  },
  {
   "cell_type": "markdown",
   "id": "difficult-confidentiality",
   "metadata": {},
   "source": [
    "6011 : [기초-입출력] 실수 1개 입력받아 변환하여 출력하기(설명)(py)"
   ]
  },
  {
   "cell_type": "markdown",
   "id": "differential-patrick",
   "metadata": {},
   "source": [
    "숫자(0~9)와 소수점(.)을 사용해 표현한 수를 실수(real number)라고 한다.\n",
    "\n",
    "변수에 실수값을 저장한 후\n",
    "변수에 저장되어 있는 값을 그대로 출력해보자.\n",
    "\n",
    "예시\n",
    "f = input()\n",
    "f = float(f)\n",
    "print(f)\n",
    "와 같은 형태로 가능하다."
   ]
  },
  {
   "cell_type": "code",
   "execution_count": 55,
   "id": "medium-thing",
   "metadata": {},
   "outputs": [
    {
     "name": "stdout",
     "output_type": "stream",
     "text": [
      "1.414213\n",
      "1.414213\n"
     ]
    }
   ],
   "source": [
    "inputs = input()\n",
    "print(float(inputs))"
   ]
  },
  {
   "cell_type": "markdown",
   "id": "legitimate-enlargement",
   "metadata": {},
   "source": [
    "6012 : [기초-입출력] 정수 2개 입력받아 그대로 출력하기1(설명)(py)"
   ]
  },
  {
   "cell_type": "markdown",
   "id": "fancy-adapter",
   "metadata": {},
   "source": [
    "줄을 바꿔 정수(integer) 2개를 입력받아 줄을 바꿔 출력해보자.\n",
    "\n",
    "예시\n",
    "a = input() \n",
    "b = input()\n",
    "print(a)\n",
    "print(b)\n",
    "과 같은 방법으로 가능하다."
   ]
  },
  {
   "cell_type": "code",
   "execution_count": 56,
   "id": "anticipated-breach",
   "metadata": {},
   "outputs": [
    {
     "name": "stdout",
     "output_type": "stream",
     "text": [
      "1\n",
      "2\n",
      "1\n",
      "2\n"
     ]
    }
   ],
   "source": [
    "inputs_01 = input()\n",
    "inputs_02 = input()\n",
    "print(inputs_01)\n",
    "print(inputs_02)"
   ]
  },
  {
   "cell_type": "markdown",
   "id": "dried-municipality",
   "metadata": {},
   "source": [
    "6013 : [기초-입출력] 문자 2개 입력받아 순서 바꿔 출력하기1(py)"
   ]
  },
  {
   "cell_type": "markdown",
   "id": "driving-parish",
   "metadata": {},
   "source": [
    "줄을 바꿔 문자(character) 2개를 입력받고, 순서를 바꿔 한 줄씩 출력해보자."
   ]
  },
  {
   "cell_type": "code",
   "execution_count": 57,
   "id": "round-manual",
   "metadata": {},
   "outputs": [
    {
     "name": "stdout",
     "output_type": "stream",
     "text": [
      "a\n",
      "b\n",
      "b\n",
      "a\n"
     ]
    }
   ],
   "source": [
    "inputs_01 = input()\n",
    "inputs_02 = input()\n",
    "print(inputs_02)\n",
    "print(inputs_01)"
   ]
  },
  {
   "cell_type": "markdown",
   "id": "designed-modeling",
   "metadata": {},
   "source": [
    "6014 : [기초-입출력] 실수 1개 입력받아 3번 출력하기(py)"
   ]
  },
  {
   "cell_type": "markdown",
   "id": "parallel-artist",
   "metadata": {},
   "source": [
    "실수(real number) 1개를 입력받아 줄을 바꿔 3번 출력해보자.\n",
    "\n",
    "예시\n",
    "...\n",
    "print(f)  #f에 저장되어있는 값을 출력하고 줄을 바꾼다.\n",
    "print(f)\n",
    "print(f)\n",
    "와 같은 방법으로 3번 줄을 바꿔 출력할 수 있다."
   ]
  },
  {
   "cell_type": "code",
   "execution_count": 58,
   "id": "wanted-beatles",
   "metadata": {},
   "outputs": [
    {
     "name": "stdout",
     "output_type": "stream",
     "text": [
      "0.1\n",
      "0.1\n",
      "0.1\n",
      "0.1\n"
     ]
    }
   ],
   "source": [
    "inputs = input()\n",
    "print(float(inputs))\n",
    "print(float(inputs))\n",
    "print(float(inputs))"
   ]
  },
  {
   "cell_type": "markdown",
   "id": "studied-graduation",
   "metadata": {},
   "source": [
    "6015 : [기초-입출력] 정수 2개 입력받아 그대로 출력하기2(설명)(py)"
   ]
  },
  {
   "cell_type": "markdown",
   "id": "arabic-chancellor",
   "metadata": {},
   "source": [
    "공백을 두고 입력된정수(integer) 2개를 입력받아 줄을 바꿔 출력해보자.\n",
    "\n",
    "예시\n",
    "a, b = input().split()\n",
    "print(a)\n",
    "print(b)\n",
    "과 같은 방법으로 두 정수를 입력받아 출력할 수 있다."
   ]
  },
  {
   "cell_type": "code",
   "execution_count": 62,
   "id": "improved-matthew",
   "metadata": {},
   "outputs": [
    {
     "name": "stdout",
     "output_type": "stream",
     "text": [
      "1 2\n",
      "1\n",
      "2\n"
     ]
    }
   ],
   "source": [
    "inputs_01, inputs_02 = input().split()\n",
    "print(inputs_01)\n",
    "print(inputs_02)"
   ]
  },
  {
   "cell_type": "markdown",
   "id": "aggregate-april",
   "metadata": {},
   "source": [
    "6016 : [기초-입출력] 문자 2개 입력받아 순서 바꿔 출력하기2(설명)(py)"
   ]
  },
  {
   "cell_type": "markdown",
   "id": "ready-allowance",
   "metadata": {},
   "source": [
    "공백을 두고 문자(character) 2개를 입력받아 순서를 바꿔 출력해보자."
   ]
  },
  {
   "cell_type": "code",
   "execution_count": 63,
   "id": "insured-thailand",
   "metadata": {},
   "outputs": [
    {
     "name": "stdout",
     "output_type": "stream",
     "text": [
      "1 2\n",
      "2\n",
      "1\n"
     ]
    }
   ],
   "source": [
    "inputs_01, inputs_02 = input().split()\n",
    "print(inputs_02)\n",
    "print(inputs_01)"
   ]
  },
  {
   "cell_type": "markdown",
   "id": "historical-chorus",
   "metadata": {},
   "source": [
    "6017 : [기초-입출력] 문장 1개 입력받아 3번 출력하기(설명)(py)"
   ]
  },
  {
   "cell_type": "markdown",
   "id": "assured-lloyd",
   "metadata": {},
   "source": [
    "정수(integer), 실수, 문자(character), 문자열(string) 등 1개만 입력받아 한 줄로 3번 출력해보자.\n",
    "\n",
    "예시\n",
    "s = input()\n",
    "print(s, s, s)  #공백으로 구분해 한 줄로 출력한다.\n",
    "와 같은 방법으로 3번 출력할 수 있다.\n"
   ]
  },
  {
   "cell_type": "code",
   "execution_count": 65,
   "id": "lined-zoning",
   "metadata": {},
   "outputs": [
    {
     "name": "stdout",
     "output_type": "stream",
     "text": [
      "computer science\n",
      "computer science computer science computer science\n"
     ]
    }
   ],
   "source": [
    "inputs = input()\n",
    "print(inputs, inputs, inputs) "
   ]
  },
  {
   "cell_type": "markdown",
   "id": "general-consortium",
   "metadata": {},
   "source": [
    "6018 : [기초-입출력] 시간 입력받아 그대로 출력하기(설명)(py)"
   ]
  },
  {
   "cell_type": "markdown",
   "id": "personal-airport",
   "metadata": {},
   "source": [
    "24시간 시:분 형식으로 시간이 입력될 때, 그대로 출력하는 연습을 해보자.\n",
    "\n",
    "예시\n",
    "a, b = input().split(':')\n",
    "print(a, b, sep=':')\n",
    "와 같은 방법으로 가능하다.\n"
   ]
  },
  {
   "cell_type": "code",
   "execution_count": 68,
   "id": "exposed-evolution",
   "metadata": {},
   "outputs": [
    {
     "name": "stdout",
     "output_type": "stream",
     "text": [
      "3:16\n",
      "3:16\n"
     ]
    }
   ],
   "source": [
    "inputs_01, inputs_02 = input().split(':')\n",
    "print(inputs_01, inputs_02, sep=':')"
   ]
  },
  {
   "cell_type": "markdown",
   "id": "violent-fraction",
   "metadata": {},
   "source": [
    "6019 : [기초-입출력] 연월일 입력받아 순서 바꿔 출력하기(py)"
   ]
  },
  {
   "cell_type": "markdown",
   "id": "middle-divorce",
   "metadata": {},
   "source": [
    "\"연도.월.일\"을 입력받아 \"일-월-연도\" 순서로 바꿔 출력해보자."
   ]
  },
  {
   "cell_type": "code",
   "execution_count": 69,
   "id": "noble-reconstruction",
   "metadata": {},
   "outputs": [
    {
     "name": "stdout",
     "output_type": "stream",
     "text": [
      "2020.3.4\n",
      "4-3-2020\n"
     ]
    }
   ],
   "source": [
    "inputs_01, inputs_02, inputs_03 = input().split('.')\n",
    "print(inputs_03, inputs_02, inputs_01, sep='-')"
   ]
  },
  {
   "cell_type": "markdown",
   "id": "white-aaron",
   "metadata": {},
   "source": [
    "6020 : [기초-입출력] 주민번호 입력받아 형태 바꿔 출력하기(py)\n",
    "시간 제한: 1 Sec  메모리 제한: 128 MB"
   ]
  },
  {
   "cell_type": "markdown",
   "id": "requested-highland",
   "metadata": {},
   "source": [
    "주민번호는 다음과 같이 구성된다.\n",
    "XXXXXX-XXXXXXX\n",
    "\n",
    "왼쪽 6자리는 생년월일(YYMMDD)이고, 오른쪽 7자리는 성별,출생지역,확인코드로 구성되어있다.\n",
    "주민번호를 입력받아 형태를 바꿔 출력해보자."
   ]
  },
  {
   "cell_type": "code",
   "execution_count": 70,
   "id": "administrative-departure",
   "metadata": {},
   "outputs": [
    {
     "name": "stdout",
     "output_type": "stream",
     "text": [
      "000907-1121112\n",
      "0009071121112\n"
     ]
    }
   ],
   "source": [
    "inputs_01, inputs_02 = input().split('-')\n",
    "print(inputs_01, inputs_02, sep='')"
   ]
  },
  {
   "cell_type": "markdown",
   "id": "loose-zambia",
   "metadata": {},
   "source": [
    "6021 : [기초-입출력] 단어 1개 입력받아 나누어 출력하기(설명)(py)"
   ]
  },
  {
   "cell_type": "markdown",
   "id": "devoted-consumption",
   "metadata": {},
   "source": [
    "알파벳과 숫자로 이루어진 단어 1개가 입력된다.\n",
    "입력받은 단어의 각 문자를 한 줄에 한 문자씩 분리해 출력한다.\n",
    "\n",
    "예시\n",
    "s = input()\n",
    "print(s[0])\n",
    "print(s[1])"
   ]
  },
  {
   "cell_type": "code",
   "execution_count": 71,
   "id": "future-timeline",
   "metadata": {},
   "outputs": [
    {
     "name": "stdout",
     "output_type": "stream",
     "text": [
      "hello\n",
      "h\n",
      "e\n",
      "l\n",
      "l\n",
      "o\n"
     ]
    }
   ],
   "source": [
    "inputs = input()\n",
    "print(inputs[0])\n",
    "print(inputs[1])\n",
    "print(inputs[2])\n",
    "print(inputs[3])\n",
    "print(inputs[4])"
   ]
  },
  {
   "cell_type": "markdown",
   "id": "artificial-terry",
   "metadata": {},
   "source": [
    "6022 : [기초-입출력] 연월일 입력받아 나누어 출력하기(설명)(py)"
   ]
  },
  {
   "cell_type": "markdown",
   "id": "convenient-sheep",
   "metadata": {},
   "source": [
    "6자리의 연월일(YYMMDD)을 입력받아 나누어 출력해보자.\n",
    "\n",
    "참고\n",
    "s = input()\n",
    "print(s[0:2])\n"
   ]
  },
  {
   "cell_type": "code",
   "execution_count": 77,
   "id": "environmental-amateur",
   "metadata": {},
   "outputs": [
    {
     "name": "stdout",
     "output_type": "stream",
     "text": [
      "200304\n",
      "20 03 04\n"
     ]
    }
   ],
   "source": [
    "inputs = input()\n",
    "print(inputs[:2], inputs[2:4], inputs[4:], sep=' ')"
   ]
  },
  {
   "cell_type": "markdown",
   "id": "crucial-bahrain",
   "metadata": {},
   "source": [
    "6023 : [기초-입출력] 시분초 입력받아 분만 출력하기(py)"
   ]
  },
  {
   "cell_type": "markdown",
   "id": "special-israel",
   "metadata": {},
   "source": [
    "시:분:초 형식으로 시간이 입력될 때 분만 출력해보자.\n",
    "\n",
    "어떻게 분만 출력해야 할지 주의 깊게 생각해야한다.\n"
   ]
  },
  {
   "cell_type": "code",
   "execution_count": 78,
   "id": "excellent-cruise",
   "metadata": {},
   "outputs": [
    {
     "name": "stdout",
     "output_type": "stream",
     "text": [
      "17:23:57\n",
      "23\n"
     ]
    }
   ],
   "source": [
    "inputs_01, inputs_02, inputs_03 = input().split(':')\n",
    "print(inputs_02)"
   ]
  },
  {
   "cell_type": "markdown",
   "id": "interested-transfer",
   "metadata": {},
   "source": [
    "6024 : [기초-입출력] 단어 2개 입력받아 이어 붙이기(설명)(py)"
   ]
  },
  {
   "cell_type": "markdown",
   "id": "wound-daily",
   "metadata": {},
   "source": [
    "알파벳 문자와 숫자로 이루어진 단어 2개를 입력받아\n",
    "순서대로 붙여 출력하는 프로그램을 작성해보자.\n",
    "\n",
    "예시\n",
    "w1, w2 = input().split()\n",
    "s = w1 + w2\n",
    "print(s)"
   ]
  },
  {
   "cell_type": "code",
   "execution_count": 79,
   "id": "maritime-fellow",
   "metadata": {
    "scrolled": true
   },
   "outputs": [
    {
     "name": "stdout",
     "output_type": "stream",
     "text": [
      "hello world\n",
      "helloworld\n"
     ]
    }
   ],
   "source": [
    "inputs_01, inputs_02 = input().split(' ')\n",
    "print(inputs_01, inputs_02, sep='')"
   ]
  },
  {
   "cell_type": "markdown",
   "id": "visible-corrections",
   "metadata": {},
   "source": [
    "6025 : [기초-값변환] 정수 2개 입력받아 합 계산하기(설명)(py)"
   ]
  },
  {
   "cell_type": "markdown",
   "id": "convenient-minister",
   "metadata": {},
   "source": [
    "정수 2개를 입력받아\n",
    "합을 출력하는 프로그램을 작성해보자.\n",
    "\n",
    "예시\n",
    "a, b = input().split()\n",
    "c = int(a) + int(b)\n",
    "print(c)"
   ]
  },
  {
   "cell_type": "code",
   "execution_count": 80,
   "id": "endangered-average",
   "metadata": {},
   "outputs": [
    {
     "name": "stdout",
     "output_type": "stream",
     "text": [
      "123 -123\n",
      "0\n"
     ]
    }
   ],
   "source": [
    "inputs_01, inputs_02 = input().split(' ')\n",
    "calculate = int(inputs_01) + int(inputs_02)\n",
    "print(calculate)"
   ]
  },
  {
   "cell_type": "markdown",
   "id": "martial-distance",
   "metadata": {},
   "source": [
    "6026 : [기초-값변환] 실수 2개 입력받아 합 계산하기(설명)(py)"
   ]
  },
  {
   "cell_type": "markdown",
   "id": "satisfied-sheffield",
   "metadata": {},
   "source": [
    "실수 2개를 입력받아\n",
    "합을 출력하는 프로그램을 작성해보자."
   ]
  },
  {
   "cell_type": "code",
   "execution_count": 81,
   "id": "universal-level",
   "metadata": {},
   "outputs": [
    {
     "name": "stdout",
     "output_type": "stream",
     "text": [
      "0.1\n",
      "0.9\n",
      "1.0\n"
     ]
    }
   ],
   "source": [
    "inputs_01 = input()\n",
    "inputs_02 = input()\n",
    "calculate = float(inputs_01) + float(inputs_02)\n",
    "print(calculate)"
   ]
  },
  {
   "cell_type": "markdown",
   "id": "casual-contribution",
   "metadata": {},
   "source": [
    "6027 : [기초-출력변환] 10진 정수 입력받아 16진수로 출력하기1(설명)(py)"
   ]
  },
  {
   "cell_type": "markdown",
   "id": "sunset-thomas",
   "metadata": {},
   "source": [
    "10진수를 입력받아 16진수(hexadecimal)로 출력해보자.\n",
    "\n",
    "예시\n",
    "a = input()\n",
    "n = int(a)            #입력된 a를 10진수 값으로 변환해 변수 n에 저장\n",
    "print('%x'% n)  #n에 저장되어있는 값을 16진수(hexadecimal) 소문자 형태 문자열로 출력"
   ]
  },
  {
   "cell_type": "code",
   "execution_count": 82,
   "id": "living-conspiracy",
   "metadata": {},
   "outputs": [
    {
     "name": "stdout",
     "output_type": "stream",
     "text": [
      "255\n",
      "ff\n"
     ]
    }
   ],
   "source": [
    "inputs = input()\n",
    "print('%x'%int(inputs))"
   ]
  },
  {
   "cell_type": "markdown",
   "id": "structured-removal",
   "metadata": {},
   "source": [
    "6028 : [기초-출력변환] 10진 정수 입력받아 16진수로 출력하기2(설명)(py)"
   ]
  },
  {
   "cell_type": "markdown",
   "id": "organized-founder",
   "metadata": {},
   "source": [
    "10진수를 입력받아 16진수(hexadecimal)로 출력해보자.\n",
    "\n",
    "예시\n",
    "print('%X' % n)  #n에 저장되어있는 값을 16진수 대문자 형태 문자열로 출력\n"
   ]
  },
  {
   "cell_type": "code",
   "execution_count": 83,
   "id": "julian-professional",
   "metadata": {},
   "outputs": [
    {
     "name": "stdout",
     "output_type": "stream",
     "text": [
      "255\n",
      "FF\n"
     ]
    }
   ],
   "source": [
    "inputs = input()\n",
    "print('%X'%int(inputs))"
   ]
  },
  {
   "cell_type": "markdown",
   "id": "electrical-commodity",
   "metadata": {},
   "source": [
    "6029 : [기초-값변환] 16진 정수 입력받아 8진수로 출력하기(설명)(py)"
   ]
  },
  {
   "cell_type": "markdown",
   "id": "wicked-routine",
   "metadata": {},
   "source": [
    "16진수를 입력받아 8진수(octal)로 출력해보자.\n",
    "\n",
    "예시\n",
    "a = input()\n",
    "n = int(a, 16)      #입력된 a를 16진수로 인식해 변수 n에 저장\n",
    "print('%o' % n)  #n에 저장되어있는 값을 8진수(octal) 형태 문자열로 출력"
   ]
  },
  {
   "cell_type": "code",
   "execution_count": 84,
   "id": "parallel-receipt",
   "metadata": {},
   "outputs": [
    {
     "name": "stdout",
     "output_type": "stream",
     "text": [
      "f\n",
      "17\n"
     ]
    }
   ],
   "source": [
    "inputs = input()\n",
    "print('%o'%int(inputs, 16))"
   ]
  },
  {
   "cell_type": "markdown",
   "id": "precise-transport",
   "metadata": {},
   "source": [
    "6030 : [기초-값변환] 영문자 1개 입력받아 10진수로 변환하기(설명)(py)"
   ]
  },
  {
   "cell_type": "markdown",
   "id": "similar-notification",
   "metadata": {},
   "source": [
    "영문자 1개를 입력받아 10진수 유니코드(Unicode) 값으로 출력해보자.\n",
    "\n",
    "예시\n",
    "n = ord(input())\n",
    "print(n)"
   ]
  },
  {
   "cell_type": "code",
   "execution_count": 86,
   "id": "everyday-operation",
   "metadata": {},
   "outputs": [
    {
     "name": "stdout",
     "output_type": "stream",
     "text": [
      "A\n",
      "65\n"
     ]
    }
   ],
   "source": [
    "inputs = input()\n",
    "print(ord(inputs))"
   ]
  },
  {
   "cell_type": "markdown",
   "id": "pressing-thursday",
   "metadata": {},
   "source": [
    "6031 : [기초-값변환] 정수 입력받아 유니코드 문자로 변환하기(설명)(py)"
   ]
  },
  {
   "cell_type": "markdown",
   "id": "resistant-privacy",
   "metadata": {},
   "source": [
    "10진 정수 1개를 입력받아\n",
    "유니코드 문자로 출력해보자.\n",
    "\n",
    "\n",
    "예시\n",
    "c = int(input())\n",
    "print(chr(c))  #c에 저장되어 있는 정수 값을 유니코드 문자(chracter)로 바꿔 출력한다. "
   ]
  },
  {
   "cell_type": "code",
   "execution_count": 87,
   "id": "unauthorized-collins",
   "metadata": {},
   "outputs": [
    {
     "name": "stdout",
     "output_type": "stream",
     "text": [
      "65\n",
      "A\n"
     ]
    }
   ],
   "source": [
    "inputs = int(input())\n",
    "print(chr(inputs))"
   ]
  },
  {
   "cell_type": "markdown",
   "id": "effective-pharmacy",
   "metadata": {},
   "source": [
    "6032 : [기초-산술연산] 정수 1개 입력받아 부호 바꾸기(설명)(py)"
   ]
  },
  {
   "cell_type": "markdown",
   "id": "three-arabic",
   "metadata": {},
   "source": [
    "입력된 정수의 부호를 바꿔 출력해보자.\n",
    "\n",
    "\n",
    "예시 \n",
    "print(-n) "
   ]
  },
  {
   "cell_type": "code",
   "execution_count": 88,
   "id": "dental-championship",
   "metadata": {},
   "outputs": [
    {
     "name": "stdout",
     "output_type": "stream",
     "text": [
      "-1\n",
      "1\n"
     ]
    }
   ],
   "source": [
    "inputs = int(input())\n",
    "print(-(inputs))"
   ]
  },
  {
   "cell_type": "markdown",
   "id": "working-mainstream",
   "metadata": {},
   "source": [
    "6033 : [기초-산술연산] 문자 1개 입력받아 다음 문자 출력하기(설명)(py)"
   ]
  },
  {
   "cell_type": "markdown",
   "id": "mexican-bahrain",
   "metadata": {},
   "source": [
    "문자 1개를 입력받아 그 다음 문자를 출력해보자.\n",
    "영문자 'A'의 다음 문자는 'B'이고, 숫자 '0'의 다음 문자는 '1'이다.\n",
    "\n",
    "예시\n",
    "print(chr(n+1))"
   ]
  },
  {
   "cell_type": "code",
   "execution_count": 95,
   "id": "complimentary-success",
   "metadata": {},
   "outputs": [
    {
     "name": "stdout",
     "output_type": "stream",
     "text": [
      "a\n",
      "b\n"
     ]
    }
   ],
   "source": [
    "inputs = input()\n",
    "print(chr(ord(inputs)+1))"
   ]
  },
  {
   "cell_type": "markdown",
   "id": "experimental-paraguay",
   "metadata": {},
   "source": [
    "6034 : [기초-산술연산] 정수 2개 입력받아 차 계산하기(설명)(py)"
   ]
  },
  {
   "cell_type": "markdown",
   "id": "palestinian-clerk",
   "metadata": {},
   "source": [
    "정수 2개(a, b)를 입력받아 a에서 b를 뺀 차를 출력하는 프로그램을 작성해보자.\n",
    "\n",
    "예시\n",
    "c = int(a) - int(b)\n",
    "print(c)"
   ]
  },
  {
   "cell_type": "code",
   "execution_count": 96,
   "id": "mysterious-mobility",
   "metadata": {},
   "outputs": [
    {
     "name": "stdout",
     "output_type": "stream",
     "text": [
      "123 -123\n",
      "246\n"
     ]
    }
   ],
   "source": [
    "inputs_01, inputs_02 = input().split(' ')\n",
    "calculate = int(inputs_01) - int(inputs_02)\n",
    "print(calculate)"
   ]
  },
  {
   "cell_type": "markdown",
   "id": "sized-symphony",
   "metadata": {},
   "source": [
    "6035 : [기초-산술연산] 실수 2개 입력받아 곱 계산하기(설명)(py)"
   ]
  },
  {
   "cell_type": "markdown",
   "id": "specialized-bosnia",
   "metadata": {},
   "source": [
    "실수 2개(f1, f2)를 입력받아 곱을 출력하는 프로그램을 작성해보자.\n",
    "\n",
    "예시\n",
    "m = float(f1) * float(f2)\n",
    "print(m)\n"
   ]
  },
  {
   "cell_type": "code",
   "execution_count": 97,
   "id": "fatal-traveler",
   "metadata": {},
   "outputs": [
    {
     "name": "stdout",
     "output_type": "stream",
     "text": [
      "0.5 2.0\n",
      "1.0\n"
     ]
    }
   ],
   "source": [
    "inputs_01, inputs_02 = input().split(' ')\n",
    "calculate = float(inputs_01) * float(inputs_02)\n",
    "print(calculate)"
   ]
  },
  {
   "cell_type": "markdown",
   "id": "clean-relative",
   "metadata": {},
   "source": [
    "6036 : [기초-산술연산] 단어 여러 번 출력하기(설명)(py)"
   ]
  },
  {
   "cell_type": "markdown",
   "id": "extensive-indication",
   "metadata": {},
   "source": [
    "단어와 반복 횟수를 입력받아 여러 번 출력해보자.\n",
    "\n",
    "예시\n",
    "w, n = input().split()\n",
    "print(w*int(n))\n"
   ]
  },
  {
   "cell_type": "code",
   "execution_count": 98,
   "id": "continuing-speaker",
   "metadata": {},
   "outputs": [
    {
     "name": "stdout",
     "output_type": "stream",
     "text": [
      "love 3\n",
      "lovelovelove\n"
     ]
    }
   ],
   "source": [
    "inputs_01, inputs_02 = input().split(' ')\n",
    "print(inputs_01 * int(inputs_02))"
   ]
  },
  {
   "cell_type": "markdown",
   "id": "naked-grocery",
   "metadata": {},
   "source": [
    "6037 : [기초-산술연산] 문장 여러 번 출력하기(설명)(py)"
   ]
  },
  {
   "cell_type": "markdown",
   "id": "everyday-donna",
   "metadata": {},
   "source": [
    "반복 횟수와 문장을 입력받아 여러 번 출력해보자.\n",
    "\n",
    "예시\n",
    "n = input()\n",
    "s = input()\n",
    "print(int(n)*s)"
   ]
  },
  {
   "cell_type": "code",
   "execution_count": 99,
   "id": "early-deputy",
   "metadata": {},
   "outputs": [
    {
     "name": "stdout",
     "output_type": "stream",
     "text": [
      "3\n",
      "I love CS\n",
      "I love CSI love CSI love CS\n"
     ]
    }
   ],
   "source": [
    "inputs_01 = input()\n",
    "inputs_02 = input()\n",
    "print(inputs_02 * int(inputs_01))"
   ]
  },
  {
   "cell_type": "markdown",
   "id": "imposed-crack",
   "metadata": {},
   "source": [
    "6038 : [기초-산술연산] 정수 2개 입력받아 거듭제곱 계산하기(설명)(py)"
   ]
  },
  {
   "cell_type": "markdown",
   "id": "entertaining-delhi",
   "metadata": {},
   "source": [
    "정수 2개(a, b)를 입력받아\n",
    "a를 b번 곱한 거듭제곱을 출력하는 프로그램을 작성해보자.\n",
    "\n",
    "예시\n",
    "c = int(a)**int(b) \n",
    "print(c)"
   ]
  },
  {
   "cell_type": "code",
   "execution_count": 100,
   "id": "afraid-roberts",
   "metadata": {},
   "outputs": [
    {
     "name": "stdout",
     "output_type": "stream",
     "text": [
      "2 10\n",
      "1024\n"
     ]
    }
   ],
   "source": [
    "inputs_01, inputs_02 = input().split(' ')\n",
    "calculate = int(inputs_01) ** int(inputs_02)\n",
    "print(calculate)"
   ]
  },
  {
   "cell_type": "markdown",
   "id": "straight-registrar",
   "metadata": {},
   "source": [
    "6039 : [기초-산술연산] 실수 2개 입력받아 거듭제곱 계산하기(py)"
   ]
  },
  {
   "cell_type": "markdown",
   "id": "romantic-statistics",
   "metadata": {},
   "source": [
    "실수 2개(f1, f2)를 입력받아\n",
    "f1을 f2번 거듭제곱한 값을 출력하는 프로그램을 작성해보자."
   ]
  },
  {
   "cell_type": "code",
   "execution_count": 101,
   "id": "further-locking",
   "metadata": {},
   "outputs": [
    {
     "name": "stdout",
     "output_type": "stream",
     "text": [
      "4.0 2.0\n",
      "16.0\n"
     ]
    }
   ],
   "source": [
    "inputs_01, inputs_02 = input().split(' ')\n",
    "calculate = float(inputs_01) ** float(inputs_02)\n",
    "print(calculate)"
   ]
  },
  {
   "cell_type": "markdown",
   "id": "violent-notification",
   "metadata": {},
   "source": [
    "6040 : [기초-산술연산] 정수 2개 입력받아 나눈 몫 계산하기(설명)(py)"
   ]
  },
  {
   "cell_type": "markdown",
   "id": "known-cosmetic",
   "metadata": {},
   "source": [
    "정수 2개(a, b) 를 입력받아 a를 b로 나눈 몫을 출력해보자.\n",
    "\n",
    "예시\n",
    "print(a//b)"
   ]
  },
  {
   "cell_type": "code",
   "execution_count": 102,
   "id": "lightweight-spelling",
   "metadata": {},
   "outputs": [
    {
     "name": "stdout",
     "output_type": "stream",
     "text": [
      "10 3\n",
      "3\n"
     ]
    }
   ],
   "source": [
    "inputs_01, inputs_02 = input().split(' ')\n",
    "calculate = int(inputs_01) // int(inputs_02)\n",
    "print(calculate)"
   ]
  },
  {
   "cell_type": "markdown",
   "id": "extraordinary-bumper",
   "metadata": {},
   "source": [
    "6041 : [기초-산술연산] 정수 2개 입력받아 나눈 나머지 계산하기(설명)(py)"
   ]
  },
  {
   "cell_type": "markdown",
   "id": "automated-deficit",
   "metadata": {},
   "source": [
    "정수 2개(a, b) 를 입력받아 a를 b로 나눈 나머지를 출력해보자.\n",
    "\n",
    "예시\n",
    "print(a%b)"
   ]
  },
  {
   "cell_type": "code",
   "execution_count": 103,
   "id": "dedicated-concert",
   "metadata": {},
   "outputs": [
    {
     "name": "stdout",
     "output_type": "stream",
     "text": [
      "10 3\n",
      "1\n"
     ]
    }
   ],
   "source": [
    "inputs_01, inputs_02 = input().split(' ')\n",
    "calculate = int(inputs_01) % int(inputs_02)\n",
    "print(calculate)"
   ]
  },
  {
   "cell_type": "markdown",
   "id": "narrow-antarctica",
   "metadata": {},
   "source": [
    "6042 : [기초-값변환] 실수 1개 입력받아 소숫점이하 자리 변환하기(설명)(py)"
   ]
  },
  {
   "cell_type": "markdown",
   "id": "thick-september",
   "metadata": {},
   "source": [
    "실수 1개를 입력받아\n",
    "소숫점 이하 두 번째 자리까지의 정확도로 반올림한 값을 출력해보자.\n",
    "\n",
    "\n",
    "예시\n",
    "\n",
    "a=float(input())\n",
    "print( format(a, \".2f\") )"
   ]
  },
  {
   "cell_type": "code",
   "execution_count": 104,
   "id": "hundred-survivor",
   "metadata": {},
   "outputs": [
    {
     "name": "stdout",
     "output_type": "stream",
     "text": [
      "3.141592\n",
      "3.14\n"
     ]
    }
   ],
   "source": [
    "inputs = float(input())\n",
    "print(format(inputs, \".2f\"))"
   ]
  },
  {
   "cell_type": "markdown",
   "id": "approved-nirvana",
   "metadata": {},
   "source": [
    "6043 : [기초-산술연산] 실수 2개 입력받아 나눈 결과 계산하기(py)"
   ]
  },
  {
   "cell_type": "markdown",
   "id": "federal-sarah",
   "metadata": {},
   "source": [
    "실수 2개(f1, f2)를 입력받아\n",
    "f1 을 f2 로 나눈 값을 출력해보자. 이 때 소숫점 넷째자리에서 반올림하여 무조건 소숫점 셋째 자리까지 출력한다."
   ]
  },
  {
   "cell_type": "code",
   "execution_count": 107,
   "id": "stuck-celebration",
   "metadata": {},
   "outputs": [
    {
     "name": "stdout",
     "output_type": "stream",
     "text": [
      "10.0 3.0\n",
      "3.333\n"
     ]
    }
   ],
   "source": [
    "inputs_01, inputs_02 = input().split(' ')\n",
    "calculate = float(inputs_01) / float(inputs_02)\n",
    "print(format(calculate, \".3f\"))"
   ]
  },
  {
   "cell_type": "markdown",
   "id": "organized-northwest",
   "metadata": {},
   "source": [
    "6044 : [기초-산술연산] 정수 2개 입력받아 자동 계산하기(py)"
   ]
  },
  {
   "cell_type": "markdown",
   "id": "stone-ancient",
   "metadata": {},
   "source": [
    "정수 2개(a, b)를 입력받아 합, 차, 곱, 몫, 나머지, 나눈 값을 자동으로 계산해보자.\n",
    "단 0 <= a, b <= 2147483647, b는 0이 아니다."
   ]
  },
  {
   "cell_type": "code",
   "execution_count": 110,
   "id": "advanced-duration",
   "metadata": {},
   "outputs": [
    {
     "name": "stdout",
     "output_type": "stream",
     "text": [
      "10 3\n",
      "13\n",
      "7\n",
      "30\n",
      "3\n",
      "1\n",
      "3.33\n"
     ]
    }
   ],
   "source": [
    "inputs_01, inputs_02 = input().split(' ')\n",
    "\n",
    "calculate_01 = int(inputs_01) + int(inputs_02)\n",
    "calculate_02 = int(inputs_01) - int(inputs_02)\n",
    "calculate_03 = int(inputs_01) * int(inputs_02)\n",
    "calculate_04 = int(inputs_01) // int(inputs_02)\n",
    "calculate_05 = int(inputs_01) % int(inputs_02)\n",
    "calculate_06 = int(inputs_01) / int(inputs_02)\n",
    "\n",
    "print(calculate_01)\n",
    "print(calculate_02)\n",
    "print(calculate_03)\n",
    "print(calculate_04)\n",
    "print(calculate_05)\n",
    "print(format(calculate_06, \".2f\"))"
   ]
  },
  {
   "cell_type": "markdown",
   "id": "female-council",
   "metadata": {},
   "source": [
    "6045 : [기초-산술연산] 정수 3개 입력받아 합과 평균 출력하기(설명)(py)"
   ]
  },
  {
   "cell_type": "markdown",
   "id": "lovely-valuable",
   "metadata": {},
   "source": [
    "정수 3개를 입력받아 합과 평균을 출력해보자."
   ]
  },
  {
   "cell_type": "code",
   "execution_count": 113,
   "id": "painted-setting",
   "metadata": {},
   "outputs": [
    {
     "name": "stdout",
     "output_type": "stream",
     "text": [
      "1 2 3\n",
      "6 2.00\n"
     ]
    }
   ],
   "source": [
    "inputs_01, inputs_02, inputs_03 = input().split(' ')\n",
    "\n",
    "\n",
    "calculate_01 = int(inputs_01) + int(inputs_02) +  int(inputs_03)\n",
    "calculate_02 = calculate_01 / len([inputs_01, inputs_02, inputs_03])\n",
    "\n",
    "print(calculate_01, format(calculate_02, \".2f\"))"
   ]
  },
  {
   "cell_type": "markdown",
   "id": "virtual-reaction",
   "metadata": {},
   "source": [
    "6046 : [기초-비트시프트연산] 정수 1개 입력받아 2배 곱해 출력하기(설명)(py)"
   ]
  },
  {
   "cell_type": "markdown",
   "id": "played-atlantic",
   "metadata": {},
   "source": [
    "정수 1개를 입력받아 2배 곱해 출력해보자."
   ]
  },
  {
   "cell_type": "code",
   "execution_count": 114,
   "id": "upper-sociology",
   "metadata": {},
   "outputs": [
    {
     "name": "stdout",
     "output_type": "stream",
     "text": [
      "1024\n",
      "2048\n"
     ]
    }
   ],
   "source": [
    "inputs = int(input())\n",
    "print(inputs<<1)"
   ]
  },
  {
   "cell_type": "markdown",
   "id": "rolled-publication",
   "metadata": {},
   "source": [
    "6047 : [기초-비트시프트연산] 2의 거듭제곱 배로 곱해 출력하기(설명)(py)"
   ]
  },
  {
   "cell_type": "markdown",
   "id": "spread-narrow",
   "metadata": {},
   "source": [
    "정수 2개(a, b)를 입력받아 a를 2b배 곱한 값으로 출력해보자.\n",
    "0 <= a <= 10, 0 <= b <= 10\n",
    "\n",
    "예시\n",
    "a = 2\n",
    "b = 10\n",
    "print(a << b)  #210 = 1024 가 출력된다.\n",
    "\n"
   ]
  },
  {
   "cell_type": "code",
   "execution_count": 116,
   "id": "fancy-bundle",
   "metadata": {},
   "outputs": [
    {
     "name": "stdout",
     "output_type": "stream",
     "text": [
      "1 3\n",
      "8\n"
     ]
    }
   ],
   "source": [
    "inputs_01, inputs_02 = input().split(' ')\n",
    "print(int(inputs_01) << int(inputs_02))"
   ]
  },
  {
   "cell_type": "markdown",
   "id": "broadband-donna",
   "metadata": {},
   "source": [
    "6048 : [기초-비교연산] 정수 2개 입력받아 비교하기1(설명)(py)"
   ]
  },
  {
   "cell_type": "markdown",
   "id": "pressing-quality",
   "metadata": {},
   "source": [
    "두 정수(a, b)를 입력받아\n",
    "a가 b보다 작으면 True 를, a가 b보다 크거나 같으면 False 를 출력하는 프로그램을 작성해보자.\n",
    "\n",
    "예시\n",
    "print(123<456)  #비교 연산자 < 의 계산 결과인 True(참)가 출력된다.\n",
    "(123, 456 은 숫자로 작성된 단어이기 때문에 10진수로 인식된다.)"
   ]
  },
  {
   "cell_type": "code",
   "execution_count": 117,
   "id": "theoretical-ordinance",
   "metadata": {},
   "outputs": [
    {
     "name": "stdout",
     "output_type": "stream",
     "text": [
      "1 9\n",
      "True\n"
     ]
    }
   ],
   "source": [
    "inputs_01, inputs_02 = input().split(' ')\n",
    "print(int(inputs_01) < int(inputs_02))"
   ]
  },
  {
   "cell_type": "markdown",
   "id": "published-brighton",
   "metadata": {},
   "source": [
    "6049 : [기초-비교연산] 정수 2개 입력받아 비교하기2(설명)(py)"
   ]
  },
  {
   "cell_type": "markdown",
   "id": "occupied-radar",
   "metadata": {},
   "source": [
    "두 정수(a, b)를 입력받아\n",
    "a와 b의 값이 같으면 True 를, 같지 않으면 False 를 출력하는 프로그램을 작성해보자."
   ]
  },
  {
   "cell_type": "code",
   "execution_count": 118,
   "id": "trained-office",
   "metadata": {},
   "outputs": [
    {
     "name": "stdout",
     "output_type": "stream",
     "text": [
      "0 0\n",
      "True\n"
     ]
    }
   ],
   "source": [
    "inputs_01, inputs_02 = input().split(' ')\n",
    "print(int(inputs_01) == int(inputs_02))"
   ]
  },
  {
   "cell_type": "markdown",
   "id": "adjacent-acrylic",
   "metadata": {},
   "source": [
    "6050 : [기초-비교연산] 정수 2개 입력받아 비교하기3(설명)(py)"
   ]
  },
  {
   "cell_type": "markdown",
   "id": "center-bible",
   "metadata": {},
   "source": [
    "두 정수(a, b)를 입력받아\n",
    "b의 값이 a의 값 보다 크거나 같으면 True 를, 같지 않으면 False 를 출력하는 프로그램을 작성해보자."
   ]
  },
  {
   "cell_type": "code",
   "execution_count": 119,
   "id": "verified-china",
   "metadata": {},
   "outputs": [
    {
     "name": "stdout",
     "output_type": "stream",
     "text": [
      "0 -1\n",
      "False\n"
     ]
    }
   ],
   "source": [
    "inputs_01, inputs_02 = input().split(' ')\n",
    "print(int(inputs_01) <= int(inputs_02))"
   ]
  },
  {
   "cell_type": "markdown",
   "id": "fatty-asian",
   "metadata": {},
   "source": [
    "6051 : [기초-비교연산] 정수 2개 입력받아 비교하기4(설명)(py)"
   ]
  },
  {
   "cell_type": "markdown",
   "id": "legal-reservoir",
   "metadata": {},
   "source": [
    "두 정수(a, b)를 입력받아\n",
    "a의 값이 b의 값과 서로 다르면 True 를, 같으면 False 를 출력하는 프로그램을 작성해보자."
   ]
  },
  {
   "cell_type": "code",
   "execution_count": 120,
   "id": "animated-flavor",
   "metadata": {},
   "outputs": [
    {
     "name": "stdout",
     "output_type": "stream",
     "text": [
      "0 1\n",
      "True\n"
     ]
    }
   ],
   "source": [
    "inputs_01, inputs_02 = input().split(' ')\n",
    "print(int(inputs_01) != int(inputs_02))"
   ]
  },
  {
   "cell_type": "markdown",
   "id": "continued-cutting",
   "metadata": {},
   "source": [
    "6052 : [기초-논리연산] 정수 입력받아 참 거짓 평가하기(설명)(py)"
   ]
  },
  {
   "cell_type": "markdown",
   "id": "molecular-couple",
   "metadata": {},
   "source": [
    "정수가 입력되었을 때, True/False 로 평가해주는 프로그램을 작성해보자.\n",
    "\n",
    "예시\n",
    "n = int(input())\n",
    "print(bool(n))"
   ]
  },
  {
   "cell_type": "code",
   "execution_count": 130,
   "id": "viral-region",
   "metadata": {},
   "outputs": [
    {
     "name": "stdout",
     "output_type": "stream",
     "text": [
      "0\n",
      "False\n"
     ]
    }
   ],
   "source": [
    "inputs = int(input())\n",
    "print(bool(int(inputs)))"
   ]
  },
  {
   "cell_type": "markdown",
   "id": "pressing-czech",
   "metadata": {},
   "source": [
    "6053 : [기초-논리연산] 참 거짓 바꾸기(설명)(py)"
   ]
  },
  {
   "cell_type": "markdown",
   "id": "christian-coach",
   "metadata": {},
   "source": [
    "정수값이 입력될 때,\n",
    "그 불 값을 반대로 출력하는 프로그램을 작성해보자.\n",
    "\n",
    "예시\n",
    "a = bool(int(input()))\n",
    "print(not a)\n"
   ]
  },
  {
   "cell_type": "code",
   "execution_count": 131,
   "id": "rotary-switzerland",
   "metadata": {},
   "outputs": [
    {
     "name": "stdout",
     "output_type": "stream",
     "text": [
      "1\n",
      "False\n"
     ]
    }
   ],
   "source": [
    "inputs = int(input())\n",
    "print(not bool(int(inputs)))"
   ]
  },
  {
   "cell_type": "markdown",
   "id": "liked-translator",
   "metadata": {},
   "source": [
    "6054 : [기초-논리연산] 둘 다 참일 경우만 참 출력하기(설명)(py)"
   ]
  },
  {
   "cell_type": "markdown",
   "id": "dental-cologne",
   "metadata": {},
   "source": [
    "2개의 정수값이 입력될 때,\n",
    "그 불 값이 모두 True 일 때에만 True 를 출력하는 프로그램을 작성해보자.\n",
    "\n",
    "예시\n",
    "a, b = input().split()\n",
    "print(bool(int(a)) and bool(int(b)))"
   ]
  },
  {
   "cell_type": "code",
   "execution_count": 128,
   "id": "alternative-fundamentals",
   "metadata": {},
   "outputs": [
    {
     "name": "stdout",
     "output_type": "stream",
     "text": [
      "1 0\n",
      "False\n"
     ]
    }
   ],
   "source": [
    "inputs_01, inputs_02 = input().split(' ')\n",
    "print(bool(int(inputs_01)) and bool(int(inputs_02)))"
   ]
  },
  {
   "cell_type": "markdown",
   "id": "collectible-shaft",
   "metadata": {},
   "source": [
    "6055 : [기초-논리연산] 하나라도 참이면 참 출력하기(설명)(py)"
   ]
  },
  {
   "cell_type": "markdown",
   "id": "prerequisite-taylor",
   "metadata": {},
   "source": [
    "2개의 정수값이 입력될 때,\n",
    "그 불 값이 하나라도 True 일 때에만 True 를 출력하는 프로그램을 작성해보자."
   ]
  },
  {
   "cell_type": "code",
   "execution_count": 132,
   "id": "designed-chemical",
   "metadata": {},
   "outputs": [
    {
     "name": "stdout",
     "output_type": "stream",
     "text": [
      "1 1\n",
      "True\n"
     ]
    }
   ],
   "source": [
    "inputs_01, inputs_02 = input().split(' ')\n",
    "print(bool(int(inputs_01)) or bool(int(inputs_02)))"
   ]
  },
  {
   "cell_type": "markdown",
   "id": "sound-fitting",
   "metadata": {},
   "source": [
    "6056 : [기초-논리연산] 참/거짓이 서로 다를 때에만 참"
   ]
  },
  {
   "cell_type": "markdown",
   "id": "square-ordering",
   "metadata": {},
   "source": [
    "2개의 정수값이 입력될 때,\n",
    "그 불 값(True/False) 이 서로 다를 때에만 True 를 출력하는 프로그램을 작성해보자.\n",
    "\n",
    "예시\n",
    "c = bool(int(a))\n",
    "d = bool(int(b))\n",
    "print((c and (not d)) or ((not c) and d))"
   ]
  },
  {
   "cell_type": "code",
   "execution_count": 154,
   "id": "excited-korean",
   "metadata": {},
   "outputs": [
    {
     "name": "stdout",
     "output_type": "stream",
     "text": [
      "1 1\n",
      "False\n"
     ]
    }
   ],
   "source": [
    "inputs_01, inputs_02 = input().split(' ')\n",
    "\n",
    "boolean_01 = bool(int(inputs_01))\n",
    "boolean_02 = bool(int(inputs_02))\n",
    "\n",
    "print((boolean_01 and (not boolean_02)) or ((not boolean_01) and boolean_02))"
   ]
  },
  {
   "cell_type": "markdown",
   "id": "parental-second",
   "metadata": {},
   "source": [
    "6057 : [기초-논리연산] 참/거짓이 서로 같을 때에만 참 출력하기(설명)(py)"
   ]
  },
  {
   "cell_type": "markdown",
   "id": "general-equity",
   "metadata": {},
   "source": [
    "2개의 정수값이 입력될 때,\n",
    "그 불 값(True/False) 이 서로 같을 때에만 True 를 출력하는 프로그램을 작성해보자."
   ]
  },
  {
   "cell_type": "code",
   "execution_count": 158,
   "id": "compact-county",
   "metadata": {},
   "outputs": [
    {
     "name": "stdout",
     "output_type": "stream",
     "text": [
      "0 1\n",
      "False\n"
     ]
    }
   ],
   "source": [
    "inputs_01, inputs_02 = input().split(' ')\n",
    "\n",
    "boolean_01 = bool(int(inputs_01))\n",
    "boolean_02 = bool(int(inputs_02))\n",
    "\n",
    "print(((not boolean_01) and (not boolean_02)) or (boolean_01 and boolean_02))"
   ]
  },
  {
   "cell_type": "markdown",
   "id": "needed-campbell",
   "metadata": {},
   "source": [
    "6058 : [기초-논리연산] 둘 다 거짓일 경우만 참 출력하기(py)"
   ]
  },
  {
   "cell_type": "markdown",
   "id": "rough-honor",
   "metadata": {},
   "source": [
    "2개의 정수값이 입력될 때,\n",
    "그 불 값(True/False) 이 모두 False 일 때에만 True 를 출력하는 프로그램을 작성해보자."
   ]
  },
  {
   "cell_type": "code",
   "execution_count": 166,
   "id": "hispanic-constitutional",
   "metadata": {},
   "outputs": [
    {
     "name": "stdout",
     "output_type": "stream",
     "text": [
      "0 0\n",
      "True\n"
     ]
    }
   ],
   "source": [
    "inputs_01, inputs_02 = input().split(' ')\n",
    "\n",
    "boolean_01 = bool(int(inputs_01))\n",
    "boolean_02 = bool(int(inputs_02))\n",
    "\n",
    "print(not(boolean_01 or boolean_02))"
   ]
  },
  {
   "cell_type": "markdown",
   "id": "interesting-national",
   "metadata": {},
   "source": [
    "6059 : [기초-비트단위논리연산] 비트단위로 NOT 하여 출력하기(설명)(py)"
   ]
  },
  {
   "cell_type": "markdown",
   "id": "waiting-nylon",
   "metadata": {},
   "source": [
    "입력 된 정수를 비트단위로 참/거짓을 바꾼 후 정수로 출력해보자.\n",
    "비트단위(bitwise)연산자 ~ 를 붙이면 된다.(~ : tilde, 틸드라고 읽는다.)\n",
    "\n",
    "** 비트단위(bitwise) 연산자는,\n",
    "~(bitwise not), &(bitwise and), |(bitwise or), ^(bitwise xor),\n",
    "<<(bitwise left shift), >>(bitwise right shift)\n",
    "가 있다.\n",
    "\n",
    "예를 들어 1이 입력되었을 때 저장되는 1을 32비트 2진수로 표현하면\n",
    "        00000000 00000000 00000000 00000001 이고,\n",
    "~1은 11111111 11111111 11111111 11111110 가 되는데 이는 -2를 의미한다.\n",
    "\n",
    "예시\n",
    "a = 1\n",
    "print(~a) #-2가 출력된다."
   ]
  },
  {
   "cell_type": "code",
   "execution_count": 173,
   "id": "existing-wisdom",
   "metadata": {},
   "outputs": [
    {
     "name": "stdout",
     "output_type": "stream",
     "text": [
      "2\n",
      "-3\n"
     ]
    }
   ],
   "source": [
    "inputs = int(input())\n",
    "print(~inputs)"
   ]
  },
  {
   "cell_type": "markdown",
   "id": "variable-reproduction",
   "metadata": {},
   "source": [
    "6060 : [기초-비트단위논리연산] 비트단위로 AND 하여 출력하기(설명)(py)"
   ]
  },
  {
   "cell_type": "markdown",
   "id": "comfortable-blond",
   "metadata": {},
   "source": [
    "입력된 정수 두 개를 비트단위로 and 연산한 후 그 결과를 정수로 출력해보자.\n",
    "비트단위(bitwise)연산자 &를 사용하면 된다.(and, ampersand, 앰퍼센드라고 읽는다.)"
   ]
  },
  {
   "cell_type": "code",
   "execution_count": 175,
   "id": "proof-hospital",
   "metadata": {},
   "outputs": [
    {
     "name": "stdout",
     "output_type": "stream",
     "text": [
      "3 5\n",
      "1\n"
     ]
    }
   ],
   "source": [
    "inputs_01, inputs_02 = input().split(' ')\n",
    "print(int(inputs_01) & int(inputs_02))"
   ]
  },
  {
   "cell_type": "markdown",
   "id": "worthy-willow",
   "metadata": {},
   "source": [
    "6061 : [기초-비트단위논리연산] 비트단위로 OR 하여 출력하기(설명)(py)"
   ]
  },
  {
   "cell_type": "markdown",
   "id": "fewer-thompson",
   "metadata": {},
   "source": [
    "입력된 정수 두 개를 비트단위로 or 연산한 후 그 결과를 정수로 출력해보자.\n",
    "비트단위(bitwise) 연산자 |(or, vertical bar, 버티컬바)를 사용하면 된다."
   ]
  },
  {
   "cell_type": "code",
   "execution_count": 176,
   "id": "noticed-reporter",
   "metadata": {},
   "outputs": [
    {
     "name": "stdout",
     "output_type": "stream",
     "text": [
      "3 5\n",
      "7\n"
     ]
    }
   ],
   "source": [
    "inputs_01, inputs_02 = input().split(' ')\n",
    "print(int(inputs_01) | int(inputs_02))"
   ]
  },
  {
   "cell_type": "markdown",
   "id": "uniform-rwanda",
   "metadata": {},
   "source": [
    "6062 : [기초-비트단위논리연산] 비트단위로 XOR 하여 출력하기(설명)(py)"
   ]
  },
  {
   "cell_type": "markdown",
   "id": "vital-florida",
   "metadata": {},
   "source": [
    "입력된 정수 두 개를 비트단위로 xor 연산한 후 그 결과를 정수로 출력해보자.\n",
    "비트단위(bitwise) 연산자 ^(xor, circumflex/caret, 서컴플렉스/카릿)를 사용하면 된다."
   ]
  },
  {
   "cell_type": "code",
   "execution_count": 177,
   "id": "abroad-status",
   "metadata": {},
   "outputs": [
    {
     "name": "stdout",
     "output_type": "stream",
     "text": [
      "3 5\n",
      "6\n"
     ]
    }
   ],
   "source": [
    "inputs_01, inputs_02 = input().split(' ')\n",
    "print(int(inputs_01) ^ int(inputs_02))"
   ]
  },
  {
   "cell_type": "markdown",
   "id": "fabulous-worthy",
   "metadata": {},
   "source": [
    "6063 : [기초-3항연산] 정수 2개 입력받아 큰 값 출력하기(설명)(py)"
   ]
  },
  {
   "cell_type": "markdown",
   "id": "eastern-sight",
   "metadata": {},
   "source": [
    "입력된 두 정수(a, b) 중 큰 값을 출력하는 프로그램을 작성해보자.\n",
    "단, 3항 연산을 사용한다.\n",
    "\n",
    "예시\n",
    "a, b = input().split()\n",
    "a = int(a)  #변수 a에 저장되어있는 값을 정수로 바꾸어 다시 변수 a에 저장\n",
    "b = int(b)\n",
    "c = (a if (a>=b) else b)\n",
    "print(int(c))"
   ]
  },
  {
   "cell_type": "code",
   "execution_count": 180,
   "id": "broke-search",
   "metadata": {},
   "outputs": [
    {
     "name": "stdout",
     "output_type": "stream",
     "text": [
      "123 456\n",
      "456\n"
     ]
    }
   ],
   "source": [
    "inputs_01, inputs_02 = input().split(' ')\n",
    "inputs_01, inputs_02 = int(inputs_01), int(inputs_02)\n",
    "\n",
    "if_calculate = (inputs_01 if (inputs_01 >= inputs_02) else inputs_02)\n",
    "\n",
    "print(if_calculate)"
   ]
  },
  {
   "cell_type": "markdown",
   "id": "nervous-adobe",
   "metadata": {},
   "source": [
    "6064 : [기초-3항연산] 정수 3개 입력받아 가장 작은 값 출력하기(설명)(py)"
   ]
  },
  {
   "cell_type": "markdown",
   "id": "false-chair",
   "metadata": {},
   "source": [
    "입력된 세 정수 a, b, c 중 가장 작은 값을 출력하는 프로그램을 작성해보자.\n",
    "단, 3항 연산을 사용한다."
   ]
  },
  {
   "cell_type": "code",
   "execution_count": 183,
   "id": "engaged-outdoors",
   "metadata": {},
   "outputs": [
    {
     "name": "stdout",
     "output_type": "stream",
     "text": [
      "5 -1 3\n",
      "-1\n"
     ]
    }
   ],
   "source": [
    "a, b, c = input().split(' ')\n",
    "a, b, c = int(a), int(b), int(c)\n",
    "\n",
    "if_calculate = (a if a < b else b) if ((a if a < b else b) < c) else c\n",
    "\n",
    "print(if_calculate)"
   ]
  },
  {
   "cell_type": "markdown",
   "id": "diverse-accent",
   "metadata": {},
   "source": [
    "6065 : [기초-조건/선택실행구조] 정수 3개 입력받아 짝수만 출력하기(설명)(py)"
   ]
  },
  {
   "cell_type": "markdown",
   "id": "middle-greenhouse",
   "metadata": {},
   "source": [
    "3개의 정수(a, b, c)가 입력되었을 때, 짝수만 출력해보자.\n",
    "\n",
    "예시\n",
    "a, b, c = input().split()\n",
    "\n",
    "a = int(a)\n",
    "b = int(b)\n",
    "c = int(c)\n",
    "\n",
    "if a%2==0 :  #논리적으로 한 단위로 처리해야하는 경우 콜론(:)을 찍고, 들여쓰기로 작성 한다.\n",
    "  print(a)\n",
    "\n",
    "if b%2==0 :\n",
    "  print(b) \n",
    "\n",
    "if c%2==0 :\n",
    "  print(c) \n"
   ]
  },
  {
   "cell_type": "code",
   "execution_count": 184,
   "id": "protecting-monthly",
   "metadata": {},
   "outputs": [
    {
     "name": "stdout",
     "output_type": "stream",
     "text": [
      "1 2 4\n",
      "2\n",
      "4\n"
     ]
    }
   ],
   "source": [
    "inputs_01, inputs_02, inputs_03 = input().split(' ')\n",
    "inputs_01, inputs_02, inputs_03 = int(inputs_01), int(inputs_02), int(inputs_03)\n",
    "\n",
    "if inputs_01 % 2 ==0:\n",
    "    print(inputs_01)\n",
    "\n",
    "if inputs_02 % 2 ==0:\n",
    "    print(inputs_02)\n",
    "    \n",
    "if inputs_03 % 2 ==0:\n",
    "    print(inputs_03)"
   ]
  },
  {
   "cell_type": "markdown",
   "id": "fifth-enzyme",
   "metadata": {},
   "source": [
    "6066 : [기초-조건/선택실행구조] 정수 3개 입력받아 짝/홀 출력하기(설명)(py)"
   ]
  },
  {
   "cell_type": "markdown",
   "id": "intelligent-haven",
   "metadata": {},
   "source": [
    "3개의 정수(a, b, c)가 입력되었을 때, 짝(even)/홀(odd)을 출력해보자.\n",
    "\n",
    "예시\n",
    "if a%2==0 :\n",
    "  print(\"even\")\n",
    "else :\n",
    "  print(\"odd\") "
   ]
  },
  {
   "cell_type": "code",
   "execution_count": 187,
   "id": "future-fairy",
   "metadata": {},
   "outputs": [
    {
     "name": "stdout",
     "output_type": "stream",
     "text": [
      "1 2 1\n",
      "odd\n",
      "even\n",
      "odd\n"
     ]
    }
   ],
   "source": [
    "inputs_01, inputs_02, inputs_03 = input().split(' ')\n",
    "inputs_01, inputs_02, inputs_03 = int(inputs_01), int(inputs_02), int(inputs_03)\n",
    "\n",
    "if inputs_01 % 2 == 0:\n",
    "    print(\"even\")\n",
    "else:\n",
    "    print(\"odd\")\n",
    "    \n",
    "if inputs_02 % 2 == 0:\n",
    "    print(\"even\")\n",
    "else:\n",
    "    print(\"odd\")\n",
    "\n",
    "if inputs_03 % 2 == 0:\n",
    "    print(\"even\")\n",
    "else:\n",
    "    print(\"odd\")"
   ]
  },
  {
   "cell_type": "markdown",
   "id": "attempted-director",
   "metadata": {},
   "source": [
    "6067 : [기초-조건/선택실행구조] 정수 1개 입력받아 분류하기(설명)(py)"
   ]
  },
  {
   "cell_type": "markdown",
   "id": "neutral-strength",
   "metadata": {},
   "source": [
    "0이 아닌 정수 1개가 입력되었을 때, 음(-)/양(+)과 짝(even)/홀(odd)을 구분해 분류해보자.\n",
    "음수이면서 짝수이면, A\n",
    "음수이면서 홀수이면, B\n",
    "양수이면서 짝수이면, C\n",
    "양수이면서 홀수이면, D\n",
    "를 출력한다.\n",
    "\n",
    "예시\n",
    "if n<0 :\n",
    "  if n%2==0 :\n",
    "    print('A')      #주의 : 변수 A와 문자열 'A' / \"A\" 는 의미가 완전히 다르다. \n",
    "  else :\n",
    "    print('B')\n",
    "else :\n",
    "  if n%2==0 :\n",
    "    print('C')\n",
    "  else :\n",
    "    print('D')"
   ]
  },
  {
   "cell_type": "code",
   "execution_count": 189,
   "id": "oriental-manor",
   "metadata": {},
   "outputs": [
    {
     "name": "stdout",
     "output_type": "stream",
     "text": [
      "-2147483648\n",
      "A\n"
     ]
    }
   ],
   "source": [
    "inputs = int(input())\n",
    "\n",
    "if inputs < 0:\n",
    "    if inputs % 2 == 0:\n",
    "        print(\"A\")\n",
    "    else:\n",
    "        print(\"B\")\n",
    "else:\n",
    "    if inputs % 2 == 0:\n",
    "        print(\"C\")\n",
    "    else:\n",
    "        print(\"D\")"
   ]
  },
  {
   "cell_type": "markdown",
   "id": "monetary-landing",
   "metadata": {},
   "source": [
    "6068 : [기초-조건/선택실행구조] 점수 입력받아 평가 출력하기(설명)(py)"
   ]
  },
  {
   "cell_type": "markdown",
   "id": "previous-feeding",
   "metadata": {},
   "source": [
    "점수(정수, 0 ~ 100)를 입력받아 평가를 출력해보자.\n",
    "\n",
    "평가 기준\n",
    "점수 범위 : 평가\n",
    " 90 ~ 100 : A\n",
    " 70 ~   89 : B\n",
    " 40 ~   69 : C\n",
    "   0 ~   39 : D\n",
    "로 평가되어야 한다.\n",
    "\n",
    "예시\n",
    "...\n",
    "if n>=90 :\n",
    "  print('A')\n",
    "else :\n",
    "  if n>=70 :\n",
    "    print('B')\n",
    "  else :\n",
    "    if n>=40 :\n",
    "      print('C')\n",
    "    else :\n",
    "      print('D') "
   ]
  },
  {
   "cell_type": "code",
   "execution_count": 190,
   "id": "worst-diesel",
   "metadata": {},
   "outputs": [
    {
     "name": "stdout",
     "output_type": "stream",
     "text": [
      "73\n",
      "B\n"
     ]
    }
   ],
   "source": [
    "inputs = int(input())\n",
    "\n",
    "if inputs >= 90:\n",
    "    print(\"A\")\n",
    "else:\n",
    "    if inputs >= 70:\n",
    "        print(\"B\")\n",
    "    else:\n",
    "        if inputs >= 40:\n",
    "            print(\"C\")\n",
    "        else:\n",
    "            print(\"D\")"
   ]
  },
  {
   "cell_type": "markdown",
   "id": "dangerous-terrain",
   "metadata": {},
   "source": [
    "6069 : [기초-조건/선택실행구조] 평가 입력받아 다르게 출력하기(py)"
   ]
  },
  {
   "cell_type": "markdown",
   "id": "sought-curve",
   "metadata": {},
   "source": [
    "평가를 문자(A, B, C, D, ...)로 입력받아 내용을 다르게 출력해보자.\n",
    "\n",
    "평가 내용\n",
    "평가 : 내용\n",
    "A : best!!!\n",
    "B : good!!\n",
    "C : run!\n",
    "D : slowly~\n",
    "나머지 문자들 : what?"
   ]
  },
  {
   "cell_type": "code",
   "execution_count": 193,
   "id": "mental-audience",
   "metadata": {},
   "outputs": [
    {
     "name": "stdout",
     "output_type": "stream",
     "text": [
      "F\n",
      "what?\n"
     ]
    }
   ],
   "source": [
    "inputs = str(input())\n",
    "\n",
    "if inputs == \"A\":\n",
    "    print(\"best!!!\")\n",
    "else:\n",
    "    if inputs == \"B\":\n",
    "        print(\"good!!\")\n",
    "    else:\n",
    "        if inputs == \"C\":\n",
    "            print(\"run!\")\n",
    "        else:\n",
    "            if inputs == \"D\":\n",
    "                print(\"slowly~\")\n",
    "            else:\n",
    "                print(\"what?\")"
   ]
  },
  {
   "cell_type": "markdown",
   "id": "assumed-complement",
   "metadata": {},
   "source": [
    "6070 : [기초-조건/선택실행구조] 월 입력받아 계절 출력하기(설명)(py)"
   ]
  },
  {
   "cell_type": "markdown",
   "id": "removed-toyota",
   "metadata": {},
   "source": [
    "월이 입력될 때 계절 이름이 출력되도록 해보자.\n",
    "\n",
    "월 : 계절 이름\n",
    "12, 1, 2 : winter\n",
    "  3, 4, 5 : spring\n",
    "  6, 7, 8 : summer\n",
    "  9, 10, 11 : fall\n",
    "\n",
    "예시\n",
    "if n//3==1 :\n",
    "  print(\"spring\")"
   ]
  },
  {
   "cell_type": "code",
   "execution_count": 195,
   "id": "corresponding-therapist",
   "metadata": {},
   "outputs": [
    {
     "name": "stdout",
     "output_type": "stream",
     "text": [
      "12\n",
      "winter\n"
     ]
    }
   ],
   "source": [
    "inputs = int(input())\n",
    "\n",
    "if 3 <= inputs <= 5:\n",
    "    print(\"spring\")\n",
    "else:\n",
    "    if 6 <= inputs <= 8:\n",
    "        print(\"summer\")\n",
    "    else:\n",
    "        if 9 <= inputs <= 11:\n",
    "            print(\"fall\")\n",
    "        else:\n",
    "            print(\"winter\")"
   ]
  },
  {
   "cell_type": "markdown",
   "id": "contained-compiler",
   "metadata": {},
   "source": [
    "6071 : [기초-반복실행구조] 0 입력될 때까지 무한 출력하기(설명)(py)"
   ]
  },
  {
   "cell_type": "markdown",
   "id": "accessible-brother",
   "metadata": {},
   "source": [
    "임의의 정수가 줄을 바꿔 계속 입력된다.\n",
    "-2147483648 ~ +2147483647, 단 개수는 알 수 없다.\n",
    "\n",
    "0이 아니면 입력된 정수를 출력하고, 0이 입력되면 출력을 중단해보자.\n",
    "\n",
    "예시\n",
    "n = 1      #처음 조건 검사를 통과하기 위해 0 아닌 값을 임의로 저장\n",
    "while n!=0 :\n",
    "  n = int(input())\n",
    "  if n!=0 :\n",
    "    print(n)"
   ]
  },
  {
   "cell_type": "code",
   "execution_count": 197,
   "id": "saved-girlfriend",
   "metadata": {},
   "outputs": [
    {
     "name": "stdout",
     "output_type": "stream",
     "text": [
      "7\n",
      "7\n",
      "4\n",
      "4\n",
      "2\n",
      "2\n",
      "3\n",
      "3\n",
      "0\n"
     ]
    }
   ],
   "source": [
    "inputs = 1\n",
    "\n",
    "while inputs != 0:\n",
    "    inputs = int(input())\n",
    "    \n",
    "    if inputs != 0:\n",
    "        print(inputs)\n",
    "    else:\n",
    "        break"
   ]
  },
  {
   "cell_type": "markdown",
   "id": "specified-representative",
   "metadata": {},
   "source": [
    "6072 : [기초-반복실행구조] 정수 1개 입력받아 카운트다운 출력하기1(설명)(py)"
   ]
  },
  {
   "cell_type": "markdown",
   "id": "configured-tucson",
   "metadata": {},
   "source": [
    "정수(1 ~ 100) 1개가 입력되었을 때 카운트다운을 출력해보자.\n",
    "\n",
    "while 조건식 :\n",
    "반복 실행구조를 사용해 보자.\n",
    "\n",
    "예시\n",
    "while n!=0 :\n",
    "  print(n)\n",
    "  n = n-1"
   ]
  },
  {
   "cell_type": "code",
   "execution_count": 198,
   "id": "blind-chemical",
   "metadata": {},
   "outputs": [
    {
     "name": "stdout",
     "output_type": "stream",
     "text": [
      "5\n",
      "5\n",
      "4\n",
      "3\n",
      "2\n",
      "1\n"
     ]
    }
   ],
   "source": [
    "inputs = int(input())\n",
    "\n",
    "while inputs != 0:\n",
    "    print(inputs)\n",
    "    inputs -= 1"
   ]
  },
  {
   "cell_type": "markdown",
   "id": "graphic-increase",
   "metadata": {},
   "source": [
    "6073 : [기초-반복실행구조] 정수 1개 입력받아 카운트다운 출력하기2(py)"
   ]
  },
  {
   "cell_type": "markdown",
   "id": "cultural-afghanistan",
   "metadata": {},
   "source": [
    "정수(1 ~ 100) 1개가 입력되었을 때 카운트다운을 출력해보자.\n",
    "\n",
    "while 조건식 :\n",
    "  ...\n",
    "  ...\n",
    "\n",
    "반복 실행구조를 사용해 보자."
   ]
  },
  {
   "cell_type": "code",
   "execution_count": 202,
   "id": "applied-response",
   "metadata": {},
   "outputs": [
    {
     "name": "stdout",
     "output_type": "stream",
     "text": [
      "5\n",
      "4\n",
      "3\n",
      "2\n",
      "1\n",
      "0\n"
     ]
    }
   ],
   "source": [
    "inputs = int(input())\n",
    "\n",
    "while inputs != 0:\n",
    "    if inputs >= 0:\n",
    "        inputs -= 1\n",
    "        print(inputs)\n",
    "    else:\n",
    "        break"
   ]
  },
  {
   "cell_type": "markdown",
   "id": "signed-latitude",
   "metadata": {},
   "source": [
    "6074 : [기초-반복실행구조] 문자 1개 입력받아 알파벳 출력하기(설명)(py)"
   ]
  },
  {
   "cell_type": "markdown",
   "id": "eleven-physiology",
   "metadata": {},
   "source": [
    "영문 소문자(a ~ z) 1개가 입력되었을 때,\n",
    "a부터 그 문자까지의 알파벳을 순서대로 출력해보자.\n",
    "\n",
    "예시\n",
    "c = ord(input())\n",
    "t = ord('a')\n",
    "while t<=c :\n",
    "  print(chr(t), end=' ')\n",
    "  t += 1"
   ]
  },
  {
   "cell_type": "code",
   "execution_count": 207,
   "id": "initial-court",
   "metadata": {},
   "outputs": [
    {
     "name": "stdout",
     "output_type": "stream",
     "text": [
      "f\n",
      "a b c d e f "
     ]
    }
   ],
   "source": [
    "inputs = input()\n",
    "\n",
    "start_number = ord('a')\n",
    "end_number = ord(inputs)\n",
    "\n",
    "while start_number <= end_number :\n",
    "    print(chr(start_number), end = ' ')\n",
    "    start_number += 1 "
   ]
  },
  {
   "cell_type": "markdown",
   "id": "alpine-terrorist",
   "metadata": {},
   "source": [
    "6075 : [기초-반복실행구조] 정수 1개 입력받아 그 수까지 출력하기1(py)"
   ]
  },
  {
   "cell_type": "markdown",
   "id": "intellectual-representation",
   "metadata": {},
   "source": [
    "정수(0 ~ 100) 1개를 입력받아 0부터 그 수까지 순서대로 출력해보자."
   ]
  },
  {
   "cell_type": "code",
   "execution_count": 208,
   "id": "moved-motorcycle",
   "metadata": {},
   "outputs": [
    {
     "name": "stdout",
     "output_type": "stream",
     "text": [
      "5\n",
      "0\n",
      "1\n",
      "2\n",
      "3\n",
      "4\n",
      "5\n"
     ]
    }
   ],
   "source": [
    "inputs = input()\n",
    "\n",
    "start_number = 0\n",
    "end_number = int(inputs)\n",
    "\n",
    "while start_number <= end_number :\n",
    "    print(start_number)\n",
    "    start_number += 1 "
   ]
  },
  {
   "cell_type": "markdown",
   "id": "romantic-interpretation",
   "metadata": {},
   "source": [
    "6076 : [기초-반복실행구조] 정수 1개 입력받아 그 수까지 출력하기2(설명)(py)"
   ]
  },
  {
   "cell_type": "markdown",
   "id": "norwegian-crime",
   "metadata": {},
   "source": [
    "정수(0 ~ 100) 1개를 입력받아 0부터 그 수까지 순서대로 출력해보자.\n",
    "\n",
    "예시\n",
    "n = int(input())\n",
    "for i in range(n+1) :\n",
    "  print(i)"
   ]
  },
  {
   "cell_type": "code",
   "execution_count": 209,
   "id": "automotive-vaccine",
   "metadata": {},
   "outputs": [
    {
     "name": "stdout",
     "output_type": "stream",
     "text": [
      "5\n",
      "0\n",
      "1\n",
      "2\n",
      "3\n",
      "4\n",
      "5\n"
     ]
    }
   ],
   "source": [
    "inputs = int(input())\n",
    "\n",
    "for i in range(inputs+1):\n",
    "    print(i)"
   ]
  },
  {
   "cell_type": "markdown",
   "id": "local-prime",
   "metadata": {},
   "source": [
    "6077 : [기초-종합] 짝수 합 구하기(설명)(py)"
   ]
  },
  {
   "cell_type": "markdown",
   "id": "smart-technician",
   "metadata": {},
   "source": [
    "정수(1 ~ 100) 1개를 입력받아 1부터 그 수까지 짝수의 합을 구해보자.\n",
    "\n",
    "예시\n",
    "#다음 코드는 홀 수만 더해 출력한다.\n",
    "n = int(input())\n",
    "s = 0\n",
    "for i in range(1, n+1) :\n",
    "  if i%2==1 :\n",
    "    s += i\n",
    "\n",
    "print(s)"
   ]
  },
  {
   "cell_type": "code",
   "execution_count": 214,
   "id": "mature-reviewer",
   "metadata": {},
   "outputs": [
    {
     "name": "stdout",
     "output_type": "stream",
     "text": [
      "23\n",
      "132\n"
     ]
    }
   ],
   "source": [
    "inputs = int(input())\n",
    "\n",
    "Sum_Number = 0\n",
    "\n",
    "for i in range(1, inputs+1):\n",
    "    if i % 2 == 0:\n",
    "        Sum_Number += i\n",
    "        \n",
    "print(Sum_Number)"
   ]
  },
  {
   "cell_type": "markdown",
   "id": "polyphonic-reproduction",
   "metadata": {},
   "source": [
    "6078 : [기초-종합] 원하는 문자가 입력될 때까지 반복 출력하기(py)"
   ]
  },
  {
   "cell_type": "markdown",
   "id": "sustained-albert",
   "metadata": {},
   "source": [
    "영문 소문자 'q'가 입력될 때까지\n",
    "입력한 문자를 계속 출력하는 프로그램을 작성해보자."
   ]
  },
  {
   "cell_type": "code",
   "execution_count": 222,
   "id": "cutting-courtesy",
   "metadata": {},
   "outputs": [
    {
     "name": "stdout",
     "output_type": "stream",
     "text": [
      "x\n",
      "x\n",
      "b\n",
      "b\n",
      "z\n",
      "z\n",
      "q\n",
      "q\n"
     ]
    }
   ],
   "source": [
    "while True:\n",
    "    inputs = str(input())\n",
    "    if inputs != 'q':\n",
    "        print(inputs)\n",
    "    else:\n",
    "        print(inputs)\n",
    "        break"
   ]
  },
  {
   "cell_type": "markdown",
   "id": "strong-oxide",
   "metadata": {},
   "source": [
    "6079 : [기초-종합] 언제까지 더해야 할까?(py)"
   ]
  },
  {
   "cell_type": "markdown",
   "id": "collective-charm",
   "metadata": {},
   "source": [
    "1, 2, 3 ... 을 계속 더해 나갈 때,\n",
    "그 합이 입력한 정수(0 ~ 1000)보다 같거나 작을 때까지만\n",
    "계속 더하는 프로그램을 작성해보자.\n",
    "\n",
    "즉, 1부터 n까지 정수를 계속 더해 나간다고 할 때,\n",
    "어디까지 더해야 입력한 수보다 같거나 커지는 지를 알아보고자하는 문제이다."
   ]
  },
  {
   "cell_type": "code",
   "execution_count": 313,
   "id": "leading-router",
   "metadata": {},
   "outputs": [
    {
     "name": "stdout",
     "output_type": "stream",
     "text": [
      "55\n",
      "10\n"
     ]
    }
   ],
   "source": [
    "inputs = int(input())\n",
    "\n",
    "Result = 0\n",
    "i = 1\n",
    "\n",
    "while True:\n",
    "    if Result < inputs:\n",
    "        Result += i\n",
    "        \n",
    "        \n",
    "    else:\n",
    "        Result -= i - 1\n",
    "        i = i - 1\n",
    "        break\n",
    "    i = i + 1\n",
    "print(i)"
   ]
  },
  {
   "cell_type": "markdown",
   "id": "acquired-dutch",
   "metadata": {},
   "source": [
    "6080 : [기초-종합] 주사위 2개 던지기(설명)(py)"
   ]
  },
  {
   "cell_type": "markdown",
   "id": "casual-parameter",
   "metadata": {},
   "source": [
    "1부터 n까지, 1부터 m까지 숫자가 적힌 서로 다른 주사위 2개를 던졌을 때,\n",
    "나올 수 있는 모든 경우를 출력해보자.\n",
    "\n",
    "예시\n",
    "for i in range(1, n+1) :\n",
    "  for j in range(1, m+1) :\n",
    "    print(i, j)"
   ]
  },
  {
   "cell_type": "code",
   "execution_count": 319,
   "id": "copyrighted-onion",
   "metadata": {},
   "outputs": [
    {
     "name": "stdout",
     "output_type": "stream",
     "text": [
      "2 3\n",
      "1 1\n",
      "1 2\n",
      "1 3\n",
      "2 1\n",
      "2 2\n",
      "2 3\n"
     ]
    }
   ],
   "source": [
    "inputs_01, inputs_02 = input().split(' ')\n",
    "\n",
    "for i in range(1, int(inputs_01) + 1):\n",
    "    for j in range(1, int(inputs_02) + 1):\n",
    "        print(i, j)"
   ]
  },
  {
   "cell_type": "markdown",
   "id": "collect-bunny",
   "metadata": {},
   "source": [
    "6081 : [기초-종합] 16진수 구구단 출력하기(py)"
   ]
  },
  {
   "cell_type": "markdown",
   "id": "other-dispatch",
   "metadata": {},
   "source": [
    "16진수(0, 1, 2, 3, 4, 5, 6, 7, 8, 9, A, B, C, D, E, F)를 배운\n",
    "영일이는 16진수끼리 곱하는 16진수 구구단?에 대해서 궁금해졌다.\n",
    "\n",
    "A, B, C, D, E, F 중 하나가 입력될 때,\n",
    "1부터 F까지 곱한 16진수 구구단의 내용을 출력해보자.\n",
    "(단, A ~ F 까지만 입력된다.)\n",
    "\n",
    "예시\n",
    "  print('%X'%n, '*%X'%i, '=%X'%(n*i), sep='')"
   ]
  },
  {
   "cell_type": "code",
   "execution_count": 63,
   "id": "nervous-mineral",
   "metadata": {},
   "outputs": [
    {
     "name": "stdout",
     "output_type": "stream",
     "text": [
      "B\n",
      "B*1=B\n",
      "B*2=16\n",
      "B*3=21\n",
      "B*4=2C\n",
      "B*5=37\n",
      "B*6=42\n",
      "B*7=4D\n",
      "B*8=58\n",
      "B*9=63\n",
      "B*A=6E\n",
      "B*B=79\n",
      "B*C=84\n",
      "B*D=8F\n",
      "B*E=9A\n",
      "B*F=A5\n"
     ]
    }
   ],
   "source": [
    "inputs = int(input(), 16)\n",
    "for i in range(1, 16):\n",
    "    print('%X'%inputs,\"*\", '%X'%i, '=%X'%(inputs*i), sep='')"
   ]
  }
 ],
 "metadata": {
  "kernelspec": {
   "display_name": "mini_conda",
   "language": "python",
   "name": "dd"
  },
  "language_info": {
   "codemirror_mode": {
    "name": "ipython",
    "version": 3
   },
   "file_extension": ".py",
   "mimetype": "text/x-python",
   "name": "python",
   "nbconvert_exporter": "python",
   "pygments_lexer": "ipython3",
   "version": "3.8.8"
  }
 },
 "nbformat": 4,
 "nbformat_minor": 5
}
