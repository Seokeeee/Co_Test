{
 "cells": [
  {
   "cell_type": "code",
   "execution_count": 1,
   "id": "emotional-place",
   "metadata": {},
   "outputs": [],
   "source": [
    "import time"
   ]
  },
  {
   "cell_type": "markdown",
   "id": "expanded-brook",
   "metadata": {},
   "source": [
    "## 1. 거스름돈"
   ]
  },
  {
   "cell_type": "code",
   "execution_count": 4,
   "id": "looking-rebate",
   "metadata": {},
   "outputs": [
    {
     "name": "stdout",
     "output_type": "stream",
     "text": [
      "6\n",
      "복잡도 성능 측정 : 0.00100017\n"
     ]
    }
   ],
   "source": [
    "Start_Time = time.time()\n",
    "\n",
    "\n",
    "\n",
    "Money = 1260\n",
    "Count = 0\n",
    "\n",
    "Coin_Types = [500, 100, 50, 10]\n",
    "\n",
    "for Coin in Coin_Types:\n",
    "    Count += Money // Coin\n",
    "    Money %= Coin\n",
    "\n",
    "print(Count)\n",
    "\n",
    "\n",
    "\n",
    "End_Time = time.time()\n",
    "Gap_Time = End_Time - Start_Time\n",
    "print(\"복잡도 성능 측정 :\", format(Gap_Time, \".8f\"))"
   ]
  },
  {
   "cell_type": "markdown",
   "id": "certified-shark",
   "metadata": {},
   "source": [
    "## 2. 큰 수의 법칙"
   ]
  },
  {
   "cell_type": "code",
   "execution_count": null,
   "id": "silver-guest",
   "metadata": {},
   "outputs": [],
   "source": []
  }
 ],
 "metadata": {
  "kernelspec": {
   "display_name": "mini_conda",
   "language": "python",
   "name": "dd"
  },
  "language_info": {
   "codemirror_mode": {
    "name": "ipython",
    "version": 3
   },
   "file_extension": ".py",
   "mimetype": "text/x-python",
   "name": "python",
   "nbconvert_exporter": "python",
   "pygments_lexer": "ipython3",
   "version": "3.8.8"
  }
 },
 "nbformat": 4,
 "nbformat_minor": 5
}
