{
 "cells": [
  {
   "cell_type": "code",
   "execution_count": 1,
   "id": "dressed-brunei",
   "metadata": {},
   "outputs": [],
   "source": [
    "import time"
   ]
  },
  {
   "cell_type": "markdown",
   "id": "welsh-migration",
   "metadata": {},
   "source": [
    "## 1. 거스름돈"
   ]
  },
  {
   "cell_type": "code",
   "execution_count": 4,
   "id": "inner-biography",
   "metadata": {},
   "outputs": [
    {
     "name": "stdout",
     "output_type": "stream",
     "text": [
      "6\n",
      "복잡도 성능 측정 : 0.00100017\n"
     ]
    }
   ],
   "source": [
    "Start_Time = time.time()\n",
    "\n",
    "\n",
    "\n",
    "Money = 1260\n",
    "Count = 0\n",
    "\n",
    "Coin_Types = [500, 100, 50, 10]\n",
    "\n",
    "for Coin in Coin_Types:\n",
    "    Count += Money // Coin\n",
    "    Money %= Coin\n",
    "\n",
    "print(Count)\n",
    "\n",
    "\n",
    "\n",
    "End_Time = time.time()\n",
    "Gap_Time = End_Time - Start_Time\n",
    "print(\"복잡도 성능 측정 :\", format(Gap_Time, \".8f\"))"
   ]
  },
  {
   "cell_type": "markdown",
   "id": "addressed-reservation",
   "metadata": {},
   "source": [
    "## 2. 큰 수의 법칙"
   ]
  },
  {
   "cell_type": "markdown",
   "id": "decent-genetics",
   "metadata": {},
   "source": [
    "5 8 3\n",
    "2 4 5 4 6"
   ]
  },
  {
   "cell_type": "code",
   "execution_count": 44,
   "id": "governmental-religion",
   "metadata": {
    "scrolled": true
   },
   "outputs": [
    {
     "name": "stdout",
     "output_type": "stream",
     "text": [
      "5 8 3\n",
      "2 4 5 4 6\n",
      "46\n",
      "복잡도 성능 측정 : 7.49497724\n"
     ]
    }
   ],
   "source": [
    "Start_Time = time.time()\n",
    "\n",
    "\n",
    "\n",
    "N, M, K = map(int, input().split())\n",
    "Data = list(map(int, input().split()))\n",
    "\n",
    "Data.sort()\n",
    "Frist = Data[N-1]\n",
    "Second = Data[N-2]\n",
    "\n",
    "Count = int(M / (K + 1)) * K\n",
    "Count += M % (K + 1)\n",
    "\n",
    "Result = 0\n",
    "Result += (Count) * Frist\n",
    "Result += (M - Count) * Second\n",
    "    \n",
    "print(Result)\n",
    "\n",
    "\n",
    "\n",
    "End_Time = time.time()\n",
    "Gap_Time = End_Time - Start_Time\n",
    "print(\"복잡도 성능 측정 :\", format(Gap_Time, \".8f\"))"
   ]
  },
  {
   "cell_type": "markdown",
   "id": "nutritional-redhead",
   "metadata": {},
   "source": [
    "## 3. 숫자 카드 게임"
   ]
  },
  {
   "cell_type": "markdown",
   "id": "scenic-second",
   "metadata": {},
   "source": [
    "3 3\n",
    "3 1 2\n",
    "4 1 4\n",
    "2 2 2"
   ]
  },
  {
   "cell_type": "code",
   "execution_count": 46,
   "id": "incorporated-aaron",
   "metadata": {},
   "outputs": [
    {
     "name": "stdout",
     "output_type": "stream",
     "text": [
      "3 3\n",
      "3 1 2\n",
      "3 1 3\n",
      "2 2 2\n",
      "2\n",
      "복잡도 성능 측정 : 7.59798431\n"
     ]
    }
   ],
   "source": [
    "Start_Time = time.time()\n",
    "\n",
    "N, M = map(int, input().split())\n",
    "\n",
    "Result = 0\n",
    "\n",
    "for i in range(N):\n",
    "    Row_Data = list(map(int, input().split()))\n",
    "    Min_Value = min(Row_Data)\n",
    "    Result = max(Result, Min_Value)\n",
    "    \n",
    "print(Result)\n",
    "\n",
    "\n",
    "\n",
    "End_Time = time.time()\n",
    "Gap_Time = End_Time - Start_Time\n",
    "print(\"복잡도 성능 측정 :\", format(Gap_Time, \".8f\"))"
   ]
  },
  {
   "cell_type": "markdown",
   "id": "cordless-guyana",
   "metadata": {},
   "source": [
    "## 4. 1이 될 때까지"
   ]
  },
  {
   "cell_type": "markdown",
   "id": "descending-fifteen",
   "metadata": {},
   "source": []
  },
  {
   "cell_type": "code",
   "execution_count": 47,
   "id": "steady-baseline",
   "metadata": {},
   "outputs": [
    {
     "name": "stdout",
     "output_type": "stream",
     "text": [
      "25 5\n",
      "2\n",
      "복잡도 성능 측정 : 8.77699852\n"
     ]
    }
   ],
   "source": [
    "Start_Time = time.time()\n",
    "\n",
    "\n",
    "\n",
    "N, K = map(int, input().split())\n",
    "Result = 0\n",
    "\n",
    "while True:\n",
    "    Rest = (N // K) * K\n",
    "    Result += (N - Rest)\n",
    "    \n",
    "    N = Rest\n",
    "    \n",
    "    if N < K:\n",
    "        break\n",
    "        \n",
    "    Result += 1\n",
    "    N //= K\n",
    "    \n",
    "Result += (N - 1)\n",
    "print(Result)\n",
    "\n",
    "\n",
    "\n",
    "End_Time = time.time()\n",
    "Gap_Time = End_Time - Start_Time\n",
    "print(\"복잡도 성능 측정 :\", format(Gap_Time, \".8f\"))"
   ]
  }
 ],
 "metadata": {
  "kernelspec": {
   "display_name": "Python 3 (ipykernel)",
   "language": "python",
   "name": "python3"
  },
  "language_info": {
   "codemirror_mode": {
    "name": "ipython",
    "version": 3
   },
   "file_extension": ".py",
   "mimetype": "text/x-python",
   "name": "python",
   "nbconvert_exporter": "python",
   "pygments_lexer": "ipython3",
   "version": "3.9.7"
  }
 },
 "nbformat": 4,
 "nbformat_minor": 5
}
