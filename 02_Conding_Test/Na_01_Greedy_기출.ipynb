{
 "cells": [
  {
   "cell_type": "code",
   "execution_count": null,
   "id": "reflected-toilet",
   "metadata": {},
   "outputs": [],
   "source": [
    "import time"
   ]
  },
  {
   "cell_type": "markdown",
   "id": "executed-producer",
   "metadata": {},
   "source": [
    "## A.01. 모험가 길드"
   ]
  },
  {
   "cell_type": "markdown",
   "id": "authentic-alarm",
   "metadata": {},
   "source": [
    "5\n",
    "\n",
    "2 3 1 2 2"
   ]
  },
  {
   "cell_type": "code",
   "execution_count": 9,
   "id": "arabic-anatomy",
   "metadata": {},
   "outputs": [
    {
     "name": "stdout",
     "output_type": "stream",
     "text": [
      "5\n",
      "2 3 1 2 2\n",
      "2\n"
     ]
    }
   ],
   "source": [
    "N = map(int, input())\n",
    "Member = list(map(int, input().split()))\n",
    "\n",
    "Member.sort()\n",
    "\n",
    "Result = 0\n",
    "Count = 0\n",
    "\n",
    "for i in Member:\n",
    "    Count += 1\n",
    "    if Count >= i:\n",
    "        Result += 1\n",
    "        Count = 0\n",
    "print(Result)"
   ]
  },
  {
   "cell_type": "markdown",
   "id": "optical-mainland",
   "metadata": {},
   "source": [
    "## A.02. 곱하기 혹은 더하기"
   ]
  },
  {
   "cell_type": "markdown",
   "id": "micro-atlas",
   "metadata": {},
   "source": [
    "02984"
   ]
  },
  {
   "cell_type": "code",
   "execution_count": 30,
   "id": "clinical-forty",
   "metadata": {},
   "outputs": [
    {
     "name": "stdout",
     "output_type": "stream",
     "text": [
      "567\n",
      "210\n"
     ]
    }
   ],
   "source": [
    "inputs = list(map(int, input()))\n",
    "\n",
    "Numbers = sorted(inputs)\n",
    "\n",
    "Result = 0\n",
    "for i in range(len(Numbers)):\n",
    "    Num = int(Numbers[i])\n",
    "    if Num <= 1 or Result <= 1:\n",
    "        Result += Num\n",
    "    else:\n",
    "        Result *= Num\n",
    "    \n",
    "print(Result)"
   ]
  },
  {
   "cell_type": "markdown",
   "id": "proof-witness",
   "metadata": {},
   "source": [
    "## A.03. 문자열 뒤집기"
   ]
  },
  {
   "cell_type": "markdown",
   "id": "continent-howard",
   "metadata": {},
   "source": [
    "0001100"
   ]
  },
  {
   "cell_type": "code",
   "execution_count": 3,
   "id": "patent-hostel",
   "metadata": {},
   "outputs": [
    {
     "name": "stdout",
     "output_type": "stream",
     "text": [
      "1010001000011110\n",
      "4\n"
     ]
    }
   ],
   "source": [
    "data = input()\n",
    "Count_0 = 0\n",
    "Count_1 = 0\n",
    "\n",
    "if data[0] == '1':\n",
    "    Count_0 += 1\n",
    "else:\n",
    "    Count_1 += 1\n",
    "    \n",
    "for i in range(len(data) - 1):\n",
    "    if data[i] != data[i + 1]:\n",
    "        if data[i + 1] == \"1\":\n",
    "            Count_0 += 1\n",
    "        else:\n",
    "            Count_1 += 1\n",
    "            \n",
    "print(min(Count_0, Count_1))"
   ]
  },
  {
   "cell_type": "markdown",
   "id": "demanding-parts",
   "metadata": {},
   "source": [
    "## A.04. 만들 수 없는 금액"
   ]
  },
  {
   "cell_type": "markdown",
   "id": "familiar-grain",
   "metadata": {},
   "source": [
    "5\n",
    "3 2 1 1 9"
   ]
  },
  {
   "cell_type": "code",
   "execution_count": 12,
   "id": "greatest-blood",
   "metadata": {},
   "outputs": [
    {
     "name": "stdout",
     "output_type": "stream",
     "text": [
      "5\n",
      "3 2 1 1 9\n",
      "8\n"
     ]
    }
   ],
   "source": [
    "N = map(int, input())\n",
    "Data = list(map(int, input().split()))\n",
    "Data.sort()\n",
    "\n",
    "target = 1\n",
    "for x in Data:\n",
    "    \n",
    "    if target < x:\n",
    "        break\n",
    "    target += x\n",
    "    \n",
    "print(target)"
   ]
  },
  {
   "cell_type": "code",
   "execution_count": 11,
   "id": "prescription-reader",
   "metadata": {},
   "outputs": [
    {
     "data": {
      "text/plain": [
       "[1, 1, 2, 3, 9]"
      ]
     },
     "execution_count": 11,
     "metadata": {},
     "output_type": "execute_result"
    }
   ],
   "source": [
    "sorted(Min)"
   ]
  },
  {
   "cell_type": "markdown",
   "id": "architectural-silly",
   "metadata": {},
   "source": [
    "## A.05. 볼링공 고르기"
   ]
  },
  {
   "cell_type": "markdown",
   "id": "complicated-smart",
   "metadata": {},
   "source": [
    "8 5\n",
    "1 5 4 3 2 4 5 2"
   ]
  },
  {
   "cell_type": "code",
   "execution_count": 22,
   "id": "related-possibility",
   "metadata": {},
   "outputs": [
    {
     "name": "stdout",
     "output_type": "stream",
     "text": [
      "8 5\n",
      "1 5 4 3 2 4 5 2\n",
      "25\n"
     ]
    }
   ],
   "source": [
    "N, M = map(int, input().split())\n",
    "Data = list(map(int, input().split()))\n",
    "\n",
    "Array = [0] * 11\n",
    "\n",
    "for x in Data:\n",
    "    Array[x] += 1\n",
    "    \n",
    "Result = 0\n",
    "for i in range(1, M+1):\n",
    "    N -= Array[i]\n",
    "    Result += Array[i] * N\n",
    "    \n",
    "print(Result)"
   ]
  },
  {
   "cell_type": "markdown",
   "id": "future-practitioner",
   "metadata": {},
   "source": [
    "## A.06. 무지의 먹방 라이브"
   ]
  },
  {
   "cell_type": "markdown",
   "id": "consistent-output",
   "metadata": {},
   "source": [
    "15\n",
    "8 6 4"
   ]
  },
  {
   "cell_type": "code",
   "execution_count": 25,
   "id": "korean-bulgaria",
   "metadata": {},
   "outputs": [],
   "source": [
    "import heapq"
   ]
  },
  {
   "cell_type": "code",
   "execution_count": 28,
   "id": "flush-garage",
   "metadata": {},
   "outputs": [],
   "source": [
    "def solution(Food_Time, K):\n",
    "    \n",
    "    if sum(Food_Time) <= K:\n",
    "        return -1\n",
    "    Q = []\n",
    "    for i in range(len(Food_Time)):\n",
    "        heapq.heappush(Q, (Food_Time[i], i + 1))\n",
    "    \n",
    "    sum_value = 0\n",
    "    previous = 0\n",
    "    \n",
    "    length = len(Food_Time)\n",
    "    \n",
    "    while sum_value + ((Q[0][0]) - previous * length) <= K:\n",
    "        now = heapq.heappop(Q)[0]\n",
    "        sum_value += (now - previous) * length\n",
    "        length -= 1\n",
    "        previous = now\n",
    "        \n",
    "    result = sorted(Q, key = lambda x: x[1])\n",
    "    return result[(K - sum_value) % length][1]"
   ]
  }
 ],
 "metadata": {
  "kernelspec": {
   "display_name": "Python 3 (ipykernel)",
   "language": "python",
   "name": "python3"
  },
  "language_info": {
   "codemirror_mode": {
    "name": "ipython",
    "version": 3
   },
   "file_extension": ".py",
   "mimetype": "text/x-python",
   "name": "python",
   "nbconvert_exporter": "python",
   "pygments_lexer": "ipython3",
   "version": "3.9.7"
  }
 },
 "nbformat": 4,
 "nbformat_minor": 5
}
